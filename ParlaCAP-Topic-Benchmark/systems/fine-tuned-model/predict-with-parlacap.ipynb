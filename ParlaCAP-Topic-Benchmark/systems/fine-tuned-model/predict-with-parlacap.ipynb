{
 "cells": [
  {
   "cell_type": "code",
   "execution_count": 1,
   "metadata": {},
   "outputs": [
    {
     "name": "stdout",
     "output_type": "stream",
     "text": [
      "env: CUDA_DEVICE_ORDER=PCI_BUS_ID\n",
      "env: CUDA_VISIBLE_DEVICES=0\n"
     ]
    }
   ],
   "source": [
    "%env CUDA_DEVICE_ORDER=PCI_BUS_ID\n",
    "%env CUDA_VISIBLE_DEVICES=0"
   ]
  },
  {
   "cell_type": "code",
   "execution_count": 2,
   "metadata": {},
   "outputs": [
    {
     "name": "stderr",
     "output_type": "stream",
     "text": [
      "/home/tajak/miniconda3/envs/emma_main/lib/python3.9/site-packages/tqdm/auto.py:21: TqdmWarning: IProgress not found. Please update jupyter and ipywidgets. See https://ipywidgets.readthedocs.io/en/stable/user_install.html\n",
      "  from .autonotebook import tqdm as notebook_tqdm\n"
     ]
    }
   ],
   "source": [
    "from transformers import AutoTokenizer\n",
    "import sys\n",
    "import json\n",
    "from scipy.special import softmax\n",
    "from transformers import AutoModelForSequenceClassification\n",
    "from simpletransformers.classification import ClassificationModel, ClassificationArgs\n",
    "from transformers import AutoModelForSequenceClassification, TextClassificationPipeline, AutoTokenizer, AutoConfig\n",
    "import torch\n",
    "import argparse\n",
    "import numpy as np\n",
    "import pandas as pd\n"
   ]
  },
  {
   "cell_type": "code",
   "execution_count": 3,
   "metadata": {},
   "outputs": [
    {
     "name": "stdout",
     "output_type": "stream",
     "text": [
      "(876, 6) (869, 6) (824, 6) (874, 6)\n"
     ]
    }
   ],
   "source": [
    "# Load the test datasets\n",
    "\n",
    "test_en = pd.read_json(\"../../datasets/ParlaMint-EN-CAP-test-dataset.jsonl\", lines=True)\n",
    "test_hr = pd.read_json(\"../../datasets/ParlaMint-HR-CAP-test-dataset.jsonl\", lines=True)\n",
    "test_ba = pd.read_json(\"../../datasets/ParlaMint-BA-CAP-test-dataset.jsonl\", lines=True)\n",
    "test_sr = pd.read_json(\"../../datasets/ParlaMint-RS-CAP-test-dataset.jsonl\", lines=True)\n",
    "\n",
    "print(test_en.shape, test_hr.shape, test_ba.shape,test_sr.shape)"
   ]
  },
  {
   "cell_type": "code",
   "execution_count": 5,
   "metadata": {},
   "outputs": [],
   "source": [
    "def apply_classifier(test_df, df_test_name):\n",
    "\tfrom transformers import pipeline\n",
    "\timport time\n",
    "\tprint(\"Loading the model ...\")\n",
    "\n",
    "\tcap_labels = [\"Education\", \"Technology\", \"Health\", \"Environment\", \"Housing\", \"Labor\", \"Defense\", \"Government Operations\", \"Social Welfare\", \"Other\", \"Macroeconomics\", \"Domestic Commerce\", \"Civil Rights\", \"International Affairs\", \"Transportation\", \"Immigration\", \"Law and Crime\", \"Agriculture\", \"Foreign Trade\", \"Culture\", \"Public Lands\", \"Energy\"]\n",
    "\n",
    "\tcap_model = pipeline(\"text-classification\", model=\"classla/ParlaCAP-Topic-Classifier\", device=0, max_length=512, truncation=True)\n",
    "\n",
    "\ttexts = test_df[\"text\"].to_list()\n",
    "\tpreds = []\n",
    "\n",
    "\tstart_time = time.time()\n",
    "\t# Classify the texts\n",
    "\tresults = cap_model(texts)\n",
    "\tend_time = time.time()\n",
    "\telapsed_time_min = end_time-start_time\n",
    "\n",
    "\tprint(f\"Prediction finished. It took {elapsed_time_min/60} min for {test_df.shape[0]} instances - {elapsed_time_min/test_df.shape[0]} s per instance.\")\n",
    "\n",
    "\t# Output the results\n",
    "\tfor result in results:\n",
    "\t\tpreds.append(result[\"label\"])\n",
    "\n",
    "\t# Create a json with results\n",
    "\n",
    "\tcurrent_results = {\n",
    "\t\t\"system\": \"ParlaCAP-classifier-2nd-iteration\",\n",
    "\t\t\"predictions\": [\n",
    "\t\t\t{\n",
    "\t\t\t\"train\": \"ParlaCAP-train\",\n",
    "\t\t\t\"test\": \"{}\".format(df_test_name),\n",
    "\t\t\t\"predictions\": preds,\n",
    "\t\t\t}\n",
    "\t\t]\n",
    "\t\t}\n",
    "\n",
    "\t# Save the results as a new json\n",
    "\twith open(\"submissions/submission-{}-{}.json\".format(\"ParlaCAP-2\", df_test_name), \"w\") as file:\n",
    "\t\tjson.dump(current_results, file)\n",
    "\n",
    "\tprint(\"Classification with {} on {} finished.\".format(\"ParlaCAP-2\", df_test_name))\n"
   ]
  },
  {
   "cell_type": "code",
   "execution_count": 6,
   "metadata": {},
   "outputs": [
    {
     "name": "stdout",
     "output_type": "stream",
     "text": [
      "Loading the model ...\n",
      "Prediction finished. It took 0.3762852668762207 min for 876 instances - 0.025772963484672652 s per instance.\n",
      "Classification with ParlaCAP-2 on ParlaCAP-EN-test finished.\n"
     ]
    }
   ],
   "source": [
    "apply_classifier(test_en, \"ParlaCAP-EN-test\")"
   ]
  },
  {
   "cell_type": "code",
   "execution_count": 7,
   "metadata": {},
   "outputs": [
    {
     "name": "stdout",
     "output_type": "stream",
     "text": [
      "Loading the model ...\n",
      "Prediction finished. It took 0.34687753121058146 min for 869 instances - 0.023950117229729444 s per instance.\n",
      "Classification with ParlaCAP-2 on ParlaCAP-HR-test finished.\n"
     ]
    }
   ],
   "source": [
    "apply_classifier(test_hr, \"ParlaCAP-HR-test\")"
   ]
  },
  {
   "cell_type": "code",
   "execution_count": 8,
   "metadata": {},
   "outputs": [
    {
     "name": "stdout",
     "output_type": "stream",
     "text": [
      "Loading the model ...\n",
      "Prediction finished. It took 0.36757518847783405 min for 874 instances - 0.025233994632345588 s per instance.\n",
      "Classification with ParlaCAP-2 on ParlaCAP-RS-test finished.\n"
     ]
    }
   ],
   "source": [
    "apply_classifier(test_sr, \"ParlaCAP-RS-test\")"
   ]
  },
  {
   "cell_type": "code",
   "execution_count": 9,
   "metadata": {},
   "outputs": [
    {
     "name": "stdout",
     "output_type": "stream",
     "text": [
      "Loading the model ...\n",
      "Prediction finished. It took 0.3366943717002869 min for 824 instances - 0.02451658046361312 s per instance.\n",
      "Classification with ParlaCAP-2 on ParlaCAP-BA-test finished.\n"
     ]
    }
   ],
   "source": [
    "apply_classifier(test_ba, \"ParlaCAP-BA-test\")"
   ]
  }
 ],
 "metadata": {
  "kernelspec": {
   "display_name": "emma_main",
   "language": "python",
   "name": "python3"
  },
  "language_info": {
   "codemirror_mode": {
    "name": "ipython",
    "version": 3
   },
   "file_extension": ".py",
   "mimetype": "text/x-python",
   "name": "python",
   "nbconvert_exporter": "python",
   "pygments_lexer": "ipython3",
   "version": "3.9.19"
  }
 },
 "nbformat": 4,
 "nbformat_minor": 2
}
