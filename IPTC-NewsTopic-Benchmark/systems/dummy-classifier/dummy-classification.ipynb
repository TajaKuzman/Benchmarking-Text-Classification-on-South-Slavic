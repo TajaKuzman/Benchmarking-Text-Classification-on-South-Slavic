{
 "cells": [
  {
   "cell_type": "code",
   "execution_count": null,
   "metadata": {},
   "outputs": [],
   "source": [
    "%pip install datasets"
   ]
  },
  {
   "cell_type": "code",
   "execution_count": 1,
   "metadata": {},
   "outputs": [
    {
     "name": "stderr",
     "output_type": "stream",
     "text": [
      "/home/tajak/miniconda3/envs/emma_main/lib/python3.9/site-packages/tqdm/auto.py:21: TqdmWarning: IProgress not found. Please update jupyter and ipywidgets. See https://ipywidgets.readthedocs.io/en/stable/user_install.html\n",
      "  from .autonotebook import tqdm as notebook_tqdm\n"
     ]
    }
   ],
   "source": [
    "import json\n",
    "import pandas as pd\n",
    "import os\n",
    "from sklearn.dummy import DummyClassifier\n",
    "from datasets import load_dataset"
   ]
  },
  {
   "cell_type": "code",
   "execution_count": 3,
   "metadata": {},
   "outputs": [
    {
     "data": {
      "text/html": [
       "<div>\n",
       "<style scoped>\n",
       "    .dataframe tbody tr th:only-of-type {\n",
       "        vertical-align: middle;\n",
       "    }\n",
       "\n",
       "    .dataframe tbody tr th {\n",
       "        vertical-align: top;\n",
       "    }\n",
       "\n",
       "    .dataframe thead th {\n",
       "        text-align: right;\n",
       "    }\n",
       "</style>\n",
       "<table border=\"1\" class=\"dataframe\">\n",
       "  <thead>\n",
       "    <tr style=\"text-align: right;\">\n",
       "      <th></th>\n",
       "      <th>document_id</th>\n",
       "      <th>lang</th>\n",
       "      <th>text</th>\n",
       "      <th>GPT-IPTC-label</th>\n",
       "      <th>split</th>\n",
       "    </tr>\n",
       "  </thead>\n",
       "  <tbody>\n",
       "    <tr>\n",
       "      <th>0</th>\n",
       "      <td>CLASSLA-web.hr.4163187</td>\n",
       "      <td>hr</td>\n",
       "      <td>Osnovna škola Pećine Rijeka\\n\\nObavijest učeni...</td>\n",
       "      <td>education</td>\n",
       "      <td>dev</td>\n",
       "    </tr>\n",
       "    <tr>\n",
       "      <th>1</th>\n",
       "      <td>CLASSLA-web.hr.2821678</td>\n",
       "      <td>hr</td>\n",
       "      <td>U organizaciji Lige protiv raka Koprivničko-kr...</td>\n",
       "      <td>health</td>\n",
       "      <td>train</td>\n",
       "    </tr>\n",
       "  </tbody>\n",
       "</table>\n",
       "</div>"
      ],
      "text/plain": [
       "              document_id lang  \\\n",
       "0  CLASSLA-web.hr.4163187   hr   \n",
       "1  CLASSLA-web.hr.2821678   hr   \n",
       "\n",
       "                                                text GPT-IPTC-label  split  \n",
       "0  Osnovna škola Pećine Rijeka\\n\\nObavijest učeni...      education    dev  \n",
       "1  U organizaciji Lige protiv raka Koprivničko-kr...         health  train  "
      ]
     },
     "execution_count": 3,
     "metadata": {},
     "output_type": "execute_result"
    }
   ],
   "source": [
    "# Load the training dataset\n",
    "train_df = pd.read_json(\"../../datasets/EMMediaTopic-training-dataset/EMMediaTopic-1.0.jsonl\", orient=\"records\", lines=True)\n",
    "train_df.head(2)"
   ]
  },
  {
   "cell_type": "code",
   "execution_count": 4,
   "metadata": {},
   "outputs": [
    {
     "data": {
      "text/plain": [
       "(20000, 5)"
      ]
     },
     "execution_count": 4,
     "metadata": {},
     "output_type": "execute_result"
    }
   ],
   "source": [
    "train_df = train_df[train_df[\"split\"] == \"train\"]\n",
    "train_df.shape"
   ]
  },
  {
   "cell_type": "code",
   "execution_count": 5,
   "metadata": {},
   "outputs": [
    {
     "data": {
      "text/html": [
       "<div>\n",
       "<style scoped>\n",
       "    .dataframe tbody tr th:only-of-type {\n",
       "        vertical-align: middle;\n",
       "    }\n",
       "\n",
       "    .dataframe tbody tr th {\n",
       "        vertical-align: top;\n",
       "    }\n",
       "\n",
       "    .dataframe thead th {\n",
       "        text-align: right;\n",
       "    }\n",
       "</style>\n",
       "<table border=\"1\" class=\"dataframe\">\n",
       "  <thead>\n",
       "    <tr style=\"text-align: right;\">\n",
       "      <th></th>\n",
       "      <th>document_id</th>\n",
       "      <th>lang</th>\n",
       "      <th>text</th>\n",
       "      <th>labels</th>\n",
       "      <th>split</th>\n",
       "    </tr>\n",
       "  </thead>\n",
       "  <tbody>\n",
       "    <tr>\n",
       "      <th>1</th>\n",
       "      <td>CLASSLA-web.hr.2821678</td>\n",
       "      <td>hr</td>\n",
       "      <td>U organizaciji Lige protiv raka Koprivničko-kr...</td>\n",
       "      <td>health</td>\n",
       "      <td>train</td>\n",
       "    </tr>\n",
       "    <tr>\n",
       "      <th>2</th>\n",
       "      <td>CLASSLA-web.hr.2508108</td>\n",
       "      <td>hr</td>\n",
       "      <td>[VIDEO] Rimac: Ova pobjeda u Beogradu znači pu...</td>\n",
       "      <td>sport</td>\n",
       "      <td>train</td>\n",
       "    </tr>\n",
       "  </tbody>\n",
       "</table>\n",
       "</div>"
      ],
      "text/plain": [
       "              document_id lang  \\\n",
       "1  CLASSLA-web.hr.2821678   hr   \n",
       "2  CLASSLA-web.hr.2508108   hr   \n",
       "\n",
       "                                                text  labels  split  \n",
       "1  U organizaciji Lige protiv raka Koprivničko-kr...  health  train  \n",
       "2  [VIDEO] Rimac: Ova pobjeda u Beogradu znači pu...   sport  train  "
      ]
     },
     "execution_count": 5,
     "metadata": {},
     "output_type": "execute_result"
    }
   ],
   "source": [
    "train_df.rename(columns={\"GPT-IPTC-label\": \"labels\"}, inplace=True)\n",
    "\n",
    "train_df.head(2)"
   ]
  },
  {
   "cell_type": "code",
   "execution_count": 2,
   "metadata": {},
   "outputs": [
    {
     "name": "stdout",
     "output_type": "stream",
     "text": [
      "(1129, 5)\n"
     ]
    },
    {
     "data": {
      "text/html": [
       "<div>\n",
       "<style scoped>\n",
       "    .dataframe tbody tr th:only-of-type {\n",
       "        vertical-align: middle;\n",
       "    }\n",
       "\n",
       "    .dataframe tbody tr th {\n",
       "        vertical-align: top;\n",
       "    }\n",
       "\n",
       "    .dataframe thead th {\n",
       "        text-align: right;\n",
       "    }\n",
       "</style>\n",
       "<table border=\"1\" class=\"dataframe\">\n",
       "  <thead>\n",
       "    <tr style=\"text-align: right;\">\n",
       "      <th></th>\n",
       "      <th>document_id</th>\n",
       "      <th>lang</th>\n",
       "      <th>text</th>\n",
       "      <th>labels</th>\n",
       "      <th>multilabel</th>\n",
       "    </tr>\n",
       "  </thead>\n",
       "  <tbody>\n",
       "    <tr>\n",
       "      <th>0</th>\n",
       "      <td>CLASSLA-web.hr.3842863</td>\n",
       "      <td>hr</td>\n",
       "      <td>Iza kamere\\n\\nFilmsku družinu ZAG posjetila je...</td>\n",
       "      <td>arts, culture, entertainment and media</td>\n",
       "      <td>[arts, culture, entertainment and media]</td>\n",
       "    </tr>\n",
       "    <tr>\n",
       "      <th>1</th>\n",
       "      <td>CLASSLA-web.hr.4597011</td>\n",
       "      <td>hr</td>\n",
       "      <td>Učenici osmih razreda nedavno su u sklopu tere...</td>\n",
       "      <td>education</td>\n",
       "      <td>[education]</td>\n",
       "    </tr>\n",
       "  </tbody>\n",
       "</table>\n",
       "</div>"
      ],
      "text/plain": [
       "              document_id lang  \\\n",
       "0  CLASSLA-web.hr.3842863   hr   \n",
       "1  CLASSLA-web.hr.4597011   hr   \n",
       "\n",
       "                                                text  \\\n",
       "0  Iza kamere\\n\\nFilmsku družinu ZAG posjetila je...   \n",
       "1  Učenici osmih razreda nedavno su u sklopu tere...   \n",
       "\n",
       "                                   labels  \\\n",
       "0  arts, culture, entertainment and media   \n",
       "1                               education   \n",
       "\n",
       "                                 multilabel  \n",
       "0  [arts, culture, entertainment and media]  \n",
       "1                               [education]  "
      ]
     },
     "execution_count": 2,
     "metadata": {},
     "output_type": "execute_result"
    }
   ],
   "source": [
    "# Load the test datasets from the GitHub repositories (access to them is obtained by request to the AGILE repository owner)\n",
    "\n",
    "iptc_test = pd.read_json(\"../../datasets/IPTC-top-test/IPTC-top-test.jsonl\", lines=True)\n",
    "print(iptc_test.shape)\n",
    "\n",
    "iptc_test.rename(columns={\"label\": \"labels\"}, inplace=True)\n",
    "\n",
    "iptc_test.head(2)"
   ]
  },
  {
   "cell_type": "code",
   "execution_count": 8,
   "metadata": {},
   "outputs": [
    {
     "name": "stdout",
     "output_type": "stream",
     "text": [
      "|                                                     |   proportion |\n",
      "|:----------------------------------------------------|-------------:|\n",
      "| ('ca', 'society')                                   |    0.108614  |\n",
      "| ('ca', 'lifestyle and leisure')                     |    0.104869  |\n",
      "| ('ca', 'economy, business and finance')             |    0.0861423 |\n",
      "| ('ca', 'arts, culture, entertainment and media')    |    0.082397  |\n",
      "| ('ca', 'politics')                                  |    0.0749064 |\n",
      "| ('ca', 'education')                                 |    0.0636704 |\n",
      "| ('ca', 'labour')                                    |    0.0636704 |\n",
      "| ('ca', 'environment')                               |    0.0599251 |\n",
      "| ('ca', 'crime, law and justice')                    |    0.0561798 |\n",
      "| ('ca', 'science and technology')                    |    0.0561798 |\n",
      "| ('ca', 'health')                                    |    0.0524345 |\n",
      "| ('ca', 'sport')                                     |    0.0524345 |\n",
      "| ('ca', 'disaster, accident and emergency incident') |    0.0449438 |\n",
      "| ('ca', 'religion')                                  |    0.0299625 |\n",
      "| ('ca', 'weather')                                   |    0.0299625 |\n",
      "| ('ca', 'conflict, war and peace')                   |    0.0187266 |\n",
      "| ('ca', 'human interest')                            |    0.0149813 |\n",
      "| ('el', 'economy, business and finance')             |    0.145329  |\n",
      "| ('el', 'society')                                   |    0.0865052 |\n",
      "| ('el', 'human interest')                            |    0.0795848 |\n",
      "| ('el', 'crime, law and justice')                    |    0.0726644 |\n",
      "| ('el', 'labour')                                    |    0.0657439 |\n",
      "| ('el', 'lifestyle and leisure')                     |    0.0588235 |\n",
      "| ('el', 'disaster, accident and emergency incident') |    0.0519031 |\n",
      "| ('el', 'politics')                                  |    0.0519031 |\n",
      "| ('el', 'religion')                                  |    0.0519031 |\n",
      "| ('el', 'sport')                                     |    0.0519031 |\n",
      "| ('el', 'education')                                 |    0.0484429 |\n",
      "| ('el', 'arts, culture, entertainment and media')    |    0.0449827 |\n",
      "| ('el', 'health')                                    |    0.0449827 |\n",
      "| ('el', 'conflict, war and peace')                   |    0.0380623 |\n",
      "| ('el', 'environment')                               |    0.0380623 |\n",
      "| ('el', 'science and technology')                    |    0.0346021 |\n",
      "| ('el', 'weather')                                   |    0.0346021 |\n",
      "| ('hr', 'economy, business and finance')             |    0.109966  |\n",
      "| ('hr', 'society')                                   |    0.0962199 |\n",
      "| ('hr', 'education')                                 |    0.0756014 |\n",
      "| ('hr', 'labour')                                    |    0.0618557 |\n",
      "| ('hr', 'religion')                                  |    0.0618557 |\n",
      "| ('hr', 'human interest')                            |    0.0584192 |\n",
      "| ('hr', 'sport')                                     |    0.0584192 |\n",
      "| ('hr', 'arts, culture, entertainment and media')    |    0.0515464 |\n",
      "| ('hr', 'health')                                    |    0.0515464 |\n",
      "| ('hr', 'politics')                                  |    0.0515464 |\n",
      "| ('hr', 'science and technology')                    |    0.0515464 |\n",
      "| ('hr', 'crime, law and justice')                    |    0.04811   |\n",
      "| ('hr', 'environment')                               |    0.04811   |\n",
      "| ('hr', 'lifestyle and leisure')                     |    0.04811   |\n",
      "| ('hr', 'weather')                                   |    0.04811   |\n",
      "| ('hr', 'disaster, accident and emergency incident') |    0.0412371 |\n",
      "| ('hr', 'conflict, war and peace')                   |    0.0378007 |\n",
      "| ('sl', 'society')                                   |    0.106383  |\n",
      "| ('sl', 'lifestyle and leisure')                     |    0.0957447 |\n",
      "| ('sl', 'economy, business and finance')             |    0.0744681 |\n",
      "| ('sl', 'crime, law and justice')                    |    0.0673759 |\n",
      "| ('sl', 'politics')                                  |    0.0638298 |\n",
      "| ('sl', 'health')                                    |    0.0602837 |\n",
      "| ('sl', 'labour')                                    |    0.0602837 |\n",
      "| ('sl', 'sport')                                     |    0.0602837 |\n",
      "| ('sl', 'environment')                               |    0.0567376 |\n",
      "| ('sl', 'education')                                 |    0.0531915 |\n",
      "| ('sl', 'science and technology')                    |    0.0531915 |\n",
      "| ('sl', 'arts, culture, entertainment and media')    |    0.0496454 |\n",
      "| ('sl', 'disaster, accident and emergency incident') |    0.0496454 |\n",
      "| ('sl', 'weather')                                   |    0.0425532 |\n",
      "| ('sl', 'human interest')                            |    0.0390071 |\n",
      "| ('sl', 'religion')                                  |    0.035461  |\n",
      "| ('sl', 'conflict, war and peace')                   |    0.0319149 |\n"
     ]
    }
   ],
   "source": [
    "print(iptc_test.groupby(\"lang\").labels.value_counts(normalize=True).to_markdown())"
   ]
  },
  {
   "cell_type": "code",
   "execution_count": 9,
   "metadata": {},
   "outputs": [],
   "source": [
    "def dummy(train_df, test_df, test_df_name=\"IPTC-test\"):\n",
    "    # Create X_train and Y_train parts, used for sci kit learning\n",
    "    # List of texts in training split\n",
    "    X_train = list(train_df.text)\n",
    "    # List of labels in training split\n",
    "    Y_train = list(train_df.labels)\n",
    "\n",
    "    # List of texts in test split\n",
    "    X_test = list(test_df.text)\n",
    "    # List of labels in test split\n",
    "    Y_test = list(test_df.labels)\n",
    "\n",
    "    print(len(X_train), len(Y_train), len(X_test), len(Y_test))\n",
    "\n",
    "    # Create a list of labels\n",
    "    labels = list(test_df.labels.unique())\n",
    "    print(\"Labels: {}\".format(labels))\n",
    "\n",
    "    for strategy in [\"stratified\", \"most_frequent\"]:\n",
    "        model = f\"dummy-{strategy}\"\n",
    "\n",
    "        dummy_mf = DummyClassifier(strategy=strategy)\n",
    "\n",
    "        # Train the model\n",
    "        dummy_mf.fit(X_train, Y_train)\n",
    "\n",
    "        #Get the predictions\n",
    "        y_pred_mf = dummy_mf.predict(X_test)\n",
    "\n",
    "        y_pred = list(y_pred_mf)\n",
    "\n",
    "        # Create a json with results\n",
    "        current_results = {\n",
    "            \"system\": model,\n",
    "            \"predictions\": [\n",
    "                {\n",
    "                \"train\": \"EMMediaTopic (train split)\",\n",
    "                \"test\": \"{}\".format(test_df_name),\n",
    "                \"predictions\": y_pred,\n",
    "                }\n",
    "            ],\n",
    "            #\"model\": model_type_dict[model][1],\n",
    "            #\"args\": model_args,\n",
    "            }\n",
    "\n",
    "        # Save the results as a new json\n",
    "        with open(\"submissions/submission-{}-{}.json\".format(model, test_df_name), \"w\") as file:\n",
    "            json.dump(current_results, file)\n",
    "\n",
    "        print(\"Classification with {} on {} finished.\".format(model, test_df_name))\n"
   ]
  },
  {
   "cell_type": "code",
   "execution_count": 10,
   "metadata": {},
   "outputs": [
    {
     "name": "stdout",
     "output_type": "stream",
     "text": [
      "20000 20000 1129 1129\n",
      "Labels: ['arts, culture, entertainment and media', 'education', 'science and technology', 'crime, law and justice', 'society', 'disaster, accident and emergency incident', 'conflict, war and peace', 'labour', 'sport', 'politics', 'economy, business and finance', 'religion', 'lifestyle and leisure', 'health', 'environment', 'human interest', 'weather']\n",
      "Classification with dummy-stratified on IPTC-test finished.\n",
      "Classification with dummy-most_frequent on IPTC-test finished.\n"
     ]
    }
   ],
   "source": [
    "dummy(train_df, iptc_test)"
   ]
  }
 ],
 "metadata": {
  "kernelspec": {
   "display_name": "emma_main",
   "language": "python",
   "name": "python3"
  },
  "language_info": {
   "codemirror_mode": {
    "name": "ipython",
    "version": 3
   },
   "file_extension": ".py",
   "mimetype": "text/x-python",
   "name": "python",
   "nbconvert_exporter": "python",
   "pygments_lexer": "ipython3",
   "version": "3.9.19"
  }
 },
 "nbformat": 4,
 "nbformat_minor": 2
}
