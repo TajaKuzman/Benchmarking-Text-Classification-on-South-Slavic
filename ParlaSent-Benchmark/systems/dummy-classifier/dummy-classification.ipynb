{
 "cells": [
  {
   "cell_type": "code",
   "execution_count": null,
   "metadata": {},
   "outputs": [],
   "source": [
    "%pip install datasets"
   ]
  },
  {
   "cell_type": "code",
   "execution_count": 1,
   "metadata": {},
   "outputs": [
    {
     "name": "stderr",
     "output_type": "stream",
     "text": [
      "/home/tajak/miniconda3/envs/conda_emma/lib/python3.9/site-packages/tqdm/auto.py:21: TqdmWarning: IProgress not found. Please update jupyter and ipywidgets. See https://ipywidgets.readthedocs.io/en/stable/user_install.html\n",
      "  from .autonotebook import tqdm as notebook_tqdm\n"
     ]
    }
   ],
   "source": [
    "import json\n",
    "import pandas as pd\n",
    "import os\n",
    "from sklearn.dummy import DummyClassifier\n",
    "from datasets import load_dataset"
   ]
  },
  {
   "cell_type": "code",
   "execution_count": 2,
   "metadata": {},
   "outputs": [
    {
     "name": "stdout",
     "output_type": "stream",
     "text": [
      "(2600, 14) (2600, 14)\n"
     ]
    }
   ],
   "source": [
    "# Load the test datasets\n",
    "\n",
    "test_en = pd.read_json(\"../../datasets/ParlaSent-EN-test/ParlaSent_EN_test.jsonl\", lines=True)\n",
    "test_bcs = pd.read_json(\"../../datasets/ParlaSent-BSC-test/ParlaSent_BCS_test.jsonl\", lines=True)\n",
    "\n",
    "print(test_en.shape, test_bcs.shape)"
   ]
  },
  {
   "cell_type": "code",
   "execution_count": 3,
   "metadata": {},
   "outputs": [
    {
     "name": "stdout",
     "output_type": "stream",
     "text": [
      "(13000, 16)\n"
     ]
    },
    {
     "data": {
      "text/html": [
       "<div>\n",
       "<style scoped>\n",
       "    .dataframe tbody tr th:only-of-type {\n",
       "        vertical-align: middle;\n",
       "    }\n",
       "\n",
       "    .dataframe tbody tr th {\n",
       "        vertical-align: top;\n",
       "    }\n",
       "\n",
       "    .dataframe thead th {\n",
       "        text-align: right;\n",
       "    }\n",
       "</style>\n",
       "<table border=\"1\" class=\"dataframe\">\n",
       "  <thead>\n",
       "    <tr style=\"text-align: right;\">\n",
       "      <th></th>\n",
       "      <th>text</th>\n",
       "      <th>country</th>\n",
       "      <th>annotator1</th>\n",
       "      <th>annotator2</th>\n",
       "      <th>reconciliation</th>\n",
       "      <th>labels</th>\n",
       "      <th>document_id</th>\n",
       "      <th>sentence_id</th>\n",
       "      <th>term</th>\n",
       "      <th>date</th>\n",
       "      <th>name</th>\n",
       "      <th>party</th>\n",
       "      <th>gender</th>\n",
       "      <th>birth_year</th>\n",
       "      <th>split</th>\n",
       "      <th>ruling</th>\n",
       "    </tr>\n",
       "  </thead>\n",
       "  <tbody>\n",
       "    <tr>\n",
       "      <th>0</th>\n",
       "      <td>Da li je pošteno da se ukida prethodna stopa i...</td>\n",
       "      <td>HR</td>\n",
       "      <td>N_Neutral</td>\n",
       "      <td>Negative</td>\n",
       "      <td>M_Negative</td>\n",
       "      <td>Negative</td>\n",
       "      <td>17023</td>\n",
       "      <td>2536</td>\n",
       "      <td>9.0</td>\n",
       "      <td>2016-11-15</td>\n",
       "      <td>Pupovac, Milorad</td>\n",
       "      <td>SDSS</td>\n",
       "      <td>M</td>\n",
       "      <td>1955.0</td>\n",
       "      <td>train</td>\n",
       "      <td>Opposition</td>\n",
       "    </tr>\n",
       "    <tr>\n",
       "      <th>1</th>\n",
       "      <td>Znam pouzdano da su među specijalnim snagama b...</td>\n",
       "      <td>SRB</td>\n",
       "      <td>Negative</td>\n",
       "      <td>Negative</td>\n",
       "      <td>Negative</td>\n",
       "      <td>Negative</td>\n",
       "      <td>14362</td>\n",
       "      <td>1648</td>\n",
       "      <td>9.0</td>\n",
       "      <td>2013-03-28</td>\n",
       "      <td>Halimi, Riza</td>\n",
       "      <td>None</td>\n",
       "      <td>M</td>\n",
       "      <td>1947.0</td>\n",
       "      <td>train</td>\n",
       "      <td>None</td>\n",
       "    </tr>\n",
       "  </tbody>\n",
       "</table>\n",
       "</div>"
      ],
      "text/plain": [
       "                                                text country annotator1  \\\n",
       "0  Da li je pošteno da se ukida prethodna stopa i...      HR  N_Neutral   \n",
       "1  Znam pouzdano da su među specijalnim snagama b...     SRB   Negative   \n",
       "\n",
       "  annotator2 reconciliation    labels  document_id  sentence_id  term  \\\n",
       "0   Negative     M_Negative  Negative        17023         2536   9.0   \n",
       "1   Negative       Negative  Negative        14362         1648   9.0   \n",
       "\n",
       "        date              name party gender  birth_year  split      ruling  \n",
       "0 2016-11-15  Pupovac, Milorad  SDSS      M      1955.0  train  Opposition  \n",
       "1 2013-03-28      Halimi, Riza  None      M      1947.0  train        None  "
      ]
     },
     "execution_count": 3,
     "metadata": {},
     "output_type": "execute_result"
    }
   ],
   "source": [
    "# Load the training dataset\n",
    "\n",
    "train_df = pd.read_json(\"../../datasets/ParlaSent-train/ParlaSent_training.jsonl\", lines=True)\n",
    "\n",
    "print(train_df.shape)\n",
    "\n",
    "train_df.head(2)"
   ]
  },
  {
   "cell_type": "code",
   "execution_count": 4,
   "metadata": {},
   "outputs": [],
   "source": [
    "def dummy(train_df, test_df, test_df_name):\n",
    "    # Create X_train and Y_train parts, used for sci kit learning\n",
    "    # List of texts in training split\n",
    "    X_train = list(train_df.text)\n",
    "    # List of labels in training split\n",
    "    Y_train = list(train_df.labels)\n",
    "\n",
    "    # List of texts in test split\n",
    "    X_test = list(test_df.text)\n",
    "    # List of labels in test split\n",
    "    Y_test = list(test_df.labels)\n",
    "\n",
    "    print(len(X_train), len(Y_train), len(X_test), len(Y_test))\n",
    "\n",
    "    # Create a list of labels\n",
    "    labels = list(test_df.labels.unique())\n",
    "    print(\"Labels: {}\".format(labels))\n",
    "\n",
    "    for strategy in [\"stratified\", \"most_frequent\"]:\n",
    "        model = f\"dummy-{strategy}\"\n",
    "\n",
    "        dummy_mf = DummyClassifier(strategy=strategy)\n",
    "\n",
    "        # Train the model\n",
    "        dummy_mf.fit(X_train, Y_train)\n",
    "\n",
    "        #Get the predictions\n",
    "        y_pred_mf = dummy_mf.predict(X_test)\n",
    "\n",
    "        y_pred = list(y_pred_mf)\n",
    "\n",
    "        # Create a json with results\n",
    "        current_results = {\n",
    "            \"system\": model,\n",
    "            \"predictions\": [\n",
    "                {\n",
    "                \"train\": \"ParlaSent\",\n",
    "                \"test\": \"{}\".format(test_df_name),\n",
    "                \"predictions\": y_pred,\n",
    "                }\n",
    "            ],\n",
    "            #\"model\": model_type_dict[model][1],\n",
    "            #\"args\": model_args,\n",
    "            }\n",
    "\n",
    "        # Save the results as a new json\n",
    "        with open(\"submissions/submission-{}-{}.json\".format(model, test_df_name), \"w\") as file:\n",
    "            json.dump(current_results, file)\n",
    "\n",
    "        print(\"Classification with {} on {} finished.\".format(model, test_df_name))\n"
   ]
  },
  {
   "cell_type": "code",
   "execution_count": 5,
   "metadata": {},
   "outputs": [
    {
     "name": "stdout",
     "output_type": "stream",
     "text": [
      "13000 13000 2600 2600\n",
      "Labels: ['Negative', 'Neutral', 'Positive']\n",
      "Classification with dummy-stratified on ParlaSent-EN-test finished.\n",
      "Classification with dummy-most_frequent on ParlaSent-EN-test finished.\n"
     ]
    }
   ],
   "source": [
    "dummy(train_df, test_en, \"ParlaSent-EN-test\")"
   ]
  },
  {
   "cell_type": "code",
   "execution_count": 6,
   "metadata": {},
   "outputs": [
    {
     "name": "stdout",
     "output_type": "stream",
     "text": [
      "13000 13000 2600 2600\n",
      "Labels: ['Negative', 'Neutral', 'Positive']\n",
      "Classification with dummy-stratified on ParlaSent-BCS-test finished.\n",
      "Classification with dummy-most_frequent on ParlaSent-BCS-test finished.\n"
     ]
    }
   ],
   "source": [
    "dummy(train_df, test_bcs, \"ParlaSent-BCS-test\")"
   ]
  }
 ],
 "metadata": {
  "kernelspec": {
   "display_name": "conda_emma",
   "language": "python",
   "name": "python3"
  },
  "language_info": {
   "codemirror_mode": {
    "name": "ipython",
    "version": 3
   },
   "file_extension": ".py",
   "mimetype": "text/x-python",
   "name": "python",
   "nbconvert_exporter": "python",
   "pygments_lexer": "ipython3",
   "version": "3.9.19"
  }
 },
 "nbformat": 4,
 "nbformat_minor": 2
}
