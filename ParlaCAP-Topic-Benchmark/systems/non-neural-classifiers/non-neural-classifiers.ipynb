{
 "cells": [
  {
   "attachments": {},
   "cell_type": "markdown",
   "metadata": {},
   "source": [
    "# Experiments with Baseline Classifiers"
   ]
  },
  {
   "cell_type": "markdown",
   "metadata": {},
   "source": [
    "I apply traditional non-neural classifiers to the test data: dummy classifier, Naive Bayes classifier, Logistic Regression, SVM and others."
   ]
  },
  {
   "cell_type": "code",
   "execution_count": 1,
   "metadata": {
    "execution": {
     "iopub.execute_input": "2022-02-11T10:14:19.885851Z",
     "iopub.status.busy": "2022-02-11T10:14:19.885492Z",
     "iopub.status.idle": "2022-02-11T10:14:19.915615Z",
     "shell.execute_reply": "2022-02-11T10:14:19.914828Z",
     "shell.execute_reply.started": "2022-02-11T10:14:19.885763Z"
    },
    "trusted": true
   },
   "outputs": [
    {
     "name": "stderr",
     "output_type": "stream",
     "text": [
      "/home/tajak/miniconda3/envs/emma_main/lib/python3.9/site-packages/tqdm/auto.py:21: TqdmWarning: IProgress not found. Please update jupyter and ipywidgets. See https://ipywidgets.readthedocs.io/en/stable/user_install.html\n",
      "  from .autonotebook import tqdm as notebook_tqdm\n"
     ]
    }
   ],
   "source": [
    "import pandas as pd\n",
    "import numpy as np\n",
    "import json\n",
    "import sklearn.model_selection\n",
    "from sklearn import metrics\n",
    "from sklearn.metrics import f1_score\n",
    "from sklearn.pipeline import make_pipeline\n",
    "from sklearn.naive_bayes import MultinomialNB,ComplementNB\n",
    "from sklearn.linear_model import LogisticRegression\n",
    "from sklearn.svm import SVC\n",
    "from sklearn.ensemble import RandomForestClassifier\n",
    "from sklearn.tree import DecisionTreeClassifier\n",
    "from sklearn.metrics import ConfusionMatrixDisplay\n",
    "import sklearn.feature_extraction\n",
    "from sklearn.svm import SVC\n",
    "from datasets import load_dataset"
   ]
  },
  {
   "cell_type": "code",
   "execution_count": 2,
   "metadata": {},
   "outputs": [
    {
     "name": "stdout",
     "output_type": "stream",
     "text": [
      "(876, 6) (869, 6) (824, 6) (874, 6)\n"
     ]
    }
   ],
   "source": [
    "# Load the test datasets\n",
    "\n",
    "test_en = pd.read_json(\"../../datasets/ParlaMint-EN-CAP-test-dataset.jsonl\", lines=True)\n",
    "test_hr = pd.read_json(\"../../datasets/ParlaMint-HR-CAP-test-dataset.jsonl\", lines=True)\n",
    "test_ba = pd.read_json(\"../../datasets/ParlaMint-BA-CAP-test-dataset.jsonl\", lines=True)\n",
    "test_sr = pd.read_json(\"../../datasets/ParlaMint-RS-CAP-test-dataset.jsonl\", lines=True)\n",
    "\n",
    "print(test_en.shape, test_hr.shape, test_ba.shape,test_sr.shape)"
   ]
  },
  {
   "cell_type": "code",
   "execution_count": 3,
   "metadata": {},
   "outputs": [
    {
     "name": "stdout",
     "output_type": "stream",
     "text": [
      "(29779, 13)\n"
     ]
    },
    {
     "data": {
      "text/html": [
       "<div>\n",
       "<style scoped>\n",
       "    .dataframe tbody tr th:only-of-type {\n",
       "        vertical-align: middle;\n",
       "    }\n",
       "\n",
       "    .dataframe tbody tr th {\n",
       "        vertical-align: top;\n",
       "    }\n",
       "\n",
       "    .dataframe thead th {\n",
       "        text-align: right;\n",
       "    }\n",
       "</style>\n",
       "<table border=\"1\" class=\"dataframe\">\n",
       "  <thead>\n",
       "    <tr style=\"text-align: right;\">\n",
       "      <th></th>\n",
       "      <th>ID</th>\n",
       "      <th>Text_ID</th>\n",
       "      <th>text</th>\n",
       "      <th>Date</th>\n",
       "      <th>Speaker_role</th>\n",
       "      <th>Speaker_name</th>\n",
       "      <th>length</th>\n",
       "      <th>lang</th>\n",
       "      <th>labels</th>\n",
       "      <th>split</th>\n",
       "      <th>eval</th>\n",
       "      <th>keyword</th>\n",
       "      <th>public-lands-candidate-instance</th>\n",
       "    </tr>\n",
       "  </thead>\n",
       "  <tbody>\n",
       "    <tr>\n",
       "      <th>0</th>\n",
       "      <td>ParlaMint-ES-PV_2019-11-15.u95</td>\n",
       "      <td>ParlaMint-ES-PV_2019-11-15</td>\n",
       "      <td>Sailburu anderea, prozesu guztia esplikatu did...</td>\n",
       "      <td>2019-11-15</td>\n",
       "      <td>Regular</td>\n",
       "      <td>Ubera Aranzeta, Rebeka</td>\n",
       "      <td>227</td>\n",
       "      <td>ES-PV</td>\n",
       "      <td>Education</td>\n",
       "      <td>train</td>\n",
       "      <td>no</td>\n",
       "      <td>None</td>\n",
       "      <td>None</td>\n",
       "    </tr>\n",
       "    <tr>\n",
       "      <th>1</th>\n",
       "      <td>ParlaMint-AT_2005-12-06-022-XXII-NRSITZ-00129_...</td>\n",
       "      <td>ParlaMint-AT_2005-12-06-022-XXII-NRSITZ-00129</td>\n",
       "      <td>Herr Präsident! Frau Bundesministerin! Sehr ge...</td>\n",
       "      <td>2005-12-06</td>\n",
       "      <td>Regular</td>\n",
       "      <td>Praßl, Michael</td>\n",
       "      <td>222</td>\n",
       "      <td>AT</td>\n",
       "      <td>Technology</td>\n",
       "      <td>train</td>\n",
       "      <td>no</td>\n",
       "      <td>None</td>\n",
       "      <td>None</td>\n",
       "    </tr>\n",
       "  </tbody>\n",
       "</table>\n",
       "</div>"
      ],
      "text/plain": [
       "                                                  ID  \\\n",
       "0                     ParlaMint-ES-PV_2019-11-15.u95   \n",
       "1  ParlaMint-AT_2005-12-06-022-XXII-NRSITZ-00129_...   \n",
       "\n",
       "                                         Text_ID  \\\n",
       "0                     ParlaMint-ES-PV_2019-11-15   \n",
       "1  ParlaMint-AT_2005-12-06-022-XXII-NRSITZ-00129   \n",
       "\n",
       "                                                text       Date Speaker_role  \\\n",
       "0  Sailburu anderea, prozesu guztia esplikatu did... 2019-11-15      Regular   \n",
       "1  Herr Präsident! Frau Bundesministerin! Sehr ge... 2005-12-06      Regular   \n",
       "\n",
       "             Speaker_name  length   lang      labels  split eval keyword  \\\n",
       "0  Ubera Aranzeta, Rebeka     227  ES-PV   Education  train   no    None   \n",
       "1          Praßl, Michael     222     AT  Technology  train   no    None   \n",
       "\n",
       "  public-lands-candidate-instance  \n",
       "0                            None  \n",
       "1                            None  "
      ]
     },
     "execution_count": 3,
     "metadata": {},
     "output_type": "execute_result"
    }
   ],
   "source": [
    "# Load the training dataset\n",
    "\n",
    "df_train = pd.read_json(\"../../datasets/ParlaCAP-train/ParlaCAP-train.jsonl\", lines=True)\n",
    "\n",
    "print(df_train.shape)\n",
    "\n",
    "df_train.head(2)"
   ]
  },
  {
   "cell_type": "code",
   "execution_count": 4,
   "metadata": {},
   "outputs": [
    {
     "name": "stdout",
     "output_type": "stream",
     "text": [
      "29779 29779\n"
     ]
    }
   ],
   "source": [
    "# Create X_train and Y_train parts, used for sci kit learning\n",
    "# List of texts in training split\n",
    "X_train = list(df_train.text)\n",
    "# List of labels in training split\n",
    "Y_train = list(df_train.labels)\n",
    "\n",
    "\n",
    "print(len(X_train), len(Y_train))"
   ]
  },
  {
   "cell_type": "code",
   "execution_count": 5,
   "metadata": {},
   "outputs": [
    {
     "data": {
      "text/plain": [
       "['Education',\n",
       " 'Technology',\n",
       " 'Health',\n",
       " 'Environment',\n",
       " 'Housing',\n",
       " 'Labor',\n",
       " 'Defense',\n",
       " 'Government Operations',\n",
       " 'Social Welfare',\n",
       " 'Other',\n",
       " 'Macroeconomics',\n",
       " 'Domestic Commerce',\n",
       " 'Civil Rights',\n",
       " 'International Affairs',\n",
       " 'Transportation',\n",
       " 'Immigration',\n",
       " 'Law and Crime',\n",
       " 'Agriculture',\n",
       " 'Foreign Trade',\n",
       " 'Culture',\n",
       " 'Public Lands',\n",
       " 'Energy']"
      ]
     },
     "execution_count": 5,
     "metadata": {},
     "output_type": "execute_result"
    }
   ],
   "source": [
    "# Create a list of labels\n",
    "labels = list(df_train.labels.unique())\n",
    "labels"
   ]
  },
  {
   "attachments": {},
   "cell_type": "markdown",
   "metadata": {},
   "source": [
    "## Creating Sci-Kit classifiers"
   ]
  },
  {
   "cell_type": "code",
   "execution_count": 6,
   "metadata": {},
   "outputs": [],
   "source": [
    "# Create a TF-IDF representation of the text\n",
    "def data_iterator(f):\n",
    "    for token in f:\n",
    "        yield token\n",
    "\n",
    "\n",
    "def tokenizer(txt):\n",
    "    \"\"\"Simple whitespace tokenizer\"\"\"\n",
    "    return txt.split()"
   ]
  },
  {
   "cell_type": "code",
   "execution_count": 7,
   "metadata": {},
   "outputs": [
    {
     "name": "stderr",
     "output_type": "stream",
     "text": [
      "/home/tajak/miniconda3/envs/emma_main/lib/python3.9/site-packages/sklearn/feature_extraction/text.py:523: UserWarning: The parameter 'token_pattern' will not be used since 'tokenizer' is not None'\n",
      "  warnings.warn(\n"
     ]
    }
   ],
   "source": [
    "iterator=data_iterator(X_train)\n",
    "\n",
    "vectorizer=sklearn.feature_extraction.text.TfidfVectorizer(tokenizer=tokenizer,use_idf=True,min_df=0.005)\n",
    "d=vectorizer.fit_transform(iterator)"
   ]
  },
  {
   "cell_type": "code",
   "execution_count": 8,
   "metadata": {},
   "outputs": [],
   "source": [
    "# Create a pipeline of models that you want to try:\n",
    "\n",
    "pipelines=[]\n",
    "\n",
    "#for model in [DummyClassifier(strategy=\"most_frequent\"), DummyClassifier(strategy=\"stratified\"), DecisionTreeClassifier(), MultinomialNB(), ComplementNB(), LogisticRegression(), SVC(),RandomForestClassifier()]:\n",
    "#for model in [ComplementNB(), LogisticRegression(penalty=None), SVC(kernel=\"linear\", C=2)]:\n",
    "for model in [ComplementNB(), SVC(kernel=\"linear\", C=2)]:\n",
    "    pipeline=make_pipeline(model)\n",
    "    pipelines.append(pipeline)"
   ]
  },
  {
   "cell_type": "code",
   "execution_count": 9,
   "metadata": {},
   "outputs": [],
   "source": [
    "for i, pipeline in enumerate(pipelines):\n",
    "    pipeline.fit(d, Y_train)"
   ]
  },
  {
   "cell_type": "code",
   "execution_count": 10,
   "metadata": {},
   "outputs": [],
   "source": [
    "def classify(df_test, df_test_name, pipelines = pipelines):\n",
    "\n",
    "\t# List of texts in test split\n",
    "\tX_test = list(df_test.text)\n",
    "\t# List of labels in test split\n",
    "\tY_test = list(df_test.labels)\n",
    "\n",
    "\ttest_iterator=data_iterator(X_test)\n",
    "\td_test=vectorizer.transform(test_iterator)\n",
    "\n",
    "\tprint(len(X_test), len(Y_test))\n",
    "\n",
    "\tfor i, pipeline in enumerate(pipelines):\n",
    "\t\ty_pred=list(pipeline.predict(d_test))\n",
    "\t\tmodel_name = pipelines[i].steps[0][0].upper()\n",
    "\t\tmodel_name = model_name.split(\"(\")[0]\n",
    "\n",
    "\t\t# Create a json with results\n",
    "\t\tcurrent_results = {\n",
    "\t\t\t\"system\": model_name,\n",
    "\t\t\t\"predictions\": [\n",
    "\t\t\t\t{\n",
    "\t\t\t\t\"train\": \"ParlaCAP-train\",\n",
    "\t\t\t\t\"test\": \"{}\".format(df_test_name),\n",
    "\t\t\t\t\"predictions\": y_pred,\n",
    "\t\t\t\t}\n",
    "\t\t\t]\n",
    "\t\t\t}\n",
    "\n",
    "\t\t# Save the results as a new json\n",
    "\t\twith open(\"submissions/submission-{}-{}.json\".format(model_name, df_test_name), \"w\") as file:\n",
    "\t\t\tjson.dump(current_results, file)\n",
    "\n",
    "\t\tprint(\"Classification with {} on {} finished.\".format(model_name, df_test_name))\n"
   ]
  },
  {
   "cell_type": "code",
   "execution_count": 11,
   "metadata": {},
   "outputs": [
    {
     "name": "stdout",
     "output_type": "stream",
     "text": [
      "876 876\n",
      "Classification with COMPLEMENTNB on ParlaCAP-EN-test finished.\n",
      "Classification with SVC on ParlaCAP-EN-test finished.\n",
      "869 869\n",
      "Classification with COMPLEMENTNB on ParlaCAP-HR-test finished.\n",
      "Classification with SVC on ParlaCAP-HR-test finished.\n",
      "824 824\n",
      "Classification with COMPLEMENTNB on ParlaCAP-BA-test finished.\n",
      "Classification with SVC on ParlaCAP-BA-test finished.\n",
      "874 874\n",
      "Classification with COMPLEMENTNB on ParlaCAP-RS-test finished.\n",
      "Classification with SVC on ParlaCAP-RS-test finished.\n"
     ]
    }
   ],
   "source": [
    "classify(test_en, \"ParlaCAP-EN-test\", pipelines)\n",
    "classify(test_hr, \"ParlaCAP-HR-test\", pipelines)\n",
    "classify(test_ba, \"ParlaCAP-BA-test\", pipelines)\n",
    "classify(test_sr, \"ParlaCAP-RS-test\", pipelines)"
   ]
  }
 ],
 "metadata": {
  "kernelspec": {
   "display_name": "emma_main",
   "language": "python",
   "name": "python3"
  },
  "language_info": {
   "codemirror_mode": {
    "name": "ipython",
    "version": 3
   },
   "file_extension": ".py",
   "mimetype": "text/x-python",
   "name": "python",
   "nbconvert_exporter": "python",
   "pygments_lexer": "ipython3",
   "version": "3.9.19"
  }
 },
 "nbformat": 4,
 "nbformat_minor": 4
}
