{
 "cells": [
  {
   "attachments": {},
   "cell_type": "markdown",
   "metadata": {},
   "source": [
    "# Experiments with Baseline Classifiers"
   ]
  },
  {
   "cell_type": "markdown",
   "metadata": {},
   "source": [
    "I apply traditional non-neural classifiers to the test data: dummy classifier, Naive Bayes classifier, Logistic Regression, SVM and others."
   ]
  },
  {
   "cell_type": "code",
   "execution_count": 1,
   "metadata": {
    "execution": {
     "iopub.execute_input": "2022-02-11T10:14:19.885851Z",
     "iopub.status.busy": "2022-02-11T10:14:19.885492Z",
     "iopub.status.idle": "2022-02-11T10:14:19.915615Z",
     "shell.execute_reply": "2022-02-11T10:14:19.914828Z",
     "shell.execute_reply.started": "2022-02-11T10:14:19.885763Z"
    },
    "trusted": true
   },
   "outputs": [
    {
     "name": "stderr",
     "output_type": "stream",
     "text": [
      "/home/tajak/miniconda3/envs/emma_main/lib/python3.9/site-packages/tqdm/auto.py:21: TqdmWarning: IProgress not found. Please update jupyter and ipywidgets. See https://ipywidgets.readthedocs.io/en/stable/user_install.html\n",
      "  from .autonotebook import tqdm as notebook_tqdm\n"
     ]
    }
   ],
   "source": [
    "import pandas as pd\n",
    "import numpy as np\n",
    "import json\n",
    "import sklearn.model_selection\n",
    "from sklearn import metrics\n",
    "from sklearn.metrics import f1_score\n",
    "from sklearn.pipeline import make_pipeline\n",
    "from sklearn.naive_bayes import MultinomialNB,ComplementNB\n",
    "from sklearn.linear_model import LogisticRegression\n",
    "from sklearn.svm import SVC\n",
    "from sklearn.ensemble import RandomForestClassifier\n",
    "from sklearn.tree import DecisionTreeClassifier\n",
    "from sklearn.metrics import ConfusionMatrixDisplay\n",
    "import sklearn.feature_extraction\n",
    "from sklearn.svm import SVC\n",
    "from datasets import load_dataset"
   ]
  },
  {
   "cell_type": "code",
   "execution_count": 2,
   "metadata": {},
   "outputs": [
    {
     "name": "stdout",
     "output_type": "stream",
     "text": [
      "(20000, 5)\n"
     ]
    },
    {
     "data": {
      "text/html": [
       "<div>\n",
       "<style scoped>\n",
       "    .dataframe tbody tr th:only-of-type {\n",
       "        vertical-align: middle;\n",
       "    }\n",
       "\n",
       "    .dataframe tbody tr th {\n",
       "        vertical-align: top;\n",
       "    }\n",
       "\n",
       "    .dataframe thead th {\n",
       "        text-align: right;\n",
       "    }\n",
       "</style>\n",
       "<table border=\"1\" class=\"dataframe\">\n",
       "  <thead>\n",
       "    <tr style=\"text-align: right;\">\n",
       "      <th></th>\n",
       "      <th>document_id</th>\n",
       "      <th>lang</th>\n",
       "      <th>text</th>\n",
       "      <th>labels</th>\n",
       "      <th>split</th>\n",
       "    </tr>\n",
       "  </thead>\n",
       "  <tbody>\n",
       "    <tr>\n",
       "      <th>1</th>\n",
       "      <td>CLASSLA-web.hr.2821678</td>\n",
       "      <td>hr</td>\n",
       "      <td>U organizaciji Lige protiv raka Koprivničko-kr...</td>\n",
       "      <td>health</td>\n",
       "      <td>train</td>\n",
       "    </tr>\n",
       "    <tr>\n",
       "      <th>2</th>\n",
       "      <td>CLASSLA-web.hr.2508108</td>\n",
       "      <td>hr</td>\n",
       "      <td>[VIDEO] Rimac: Ova pobjeda u Beogradu znači pu...</td>\n",
       "      <td>sport</td>\n",
       "      <td>train</td>\n",
       "    </tr>\n",
       "  </tbody>\n",
       "</table>\n",
       "</div>"
      ],
      "text/plain": [
       "              document_id lang  \\\n",
       "1  CLASSLA-web.hr.2821678   hr   \n",
       "2  CLASSLA-web.hr.2508108   hr   \n",
       "\n",
       "                                                text  labels  split  \n",
       "1  U organizaciji Lige protiv raka Koprivničko-kr...  health  train  \n",
       "2  [VIDEO] Rimac: Ova pobjeda u Beogradu znači pu...   sport  train  "
      ]
     },
     "execution_count": 2,
     "metadata": {},
     "output_type": "execute_result"
    }
   ],
   "source": [
    "# Load the training dataset\n",
    "df_train = pd.read_json(\"../../datasets/EMMediaTopic-training-dataset/EMMediaTopic-1.0.jsonl\", orient=\"records\", lines=True)\n",
    "df_train = df_train[df_train[\"split\"] == \"train\"]\n",
    "print(df_train.shape)\n",
    "\n",
    "df_train.rename(columns={\"GPT-IPTC-label\": \"labels\"}, inplace=True)\n",
    "\n",
    "df_train.head(2)"
   ]
  },
  {
   "cell_type": "code",
   "execution_count": 3,
   "metadata": {},
   "outputs": [
    {
     "name": "stdout",
     "output_type": "stream",
     "text": [
      "(1129, 5)\n"
     ]
    },
    {
     "data": {
      "text/html": [
       "<div>\n",
       "<style scoped>\n",
       "    .dataframe tbody tr th:only-of-type {\n",
       "        vertical-align: middle;\n",
       "    }\n",
       "\n",
       "    .dataframe tbody tr th {\n",
       "        vertical-align: top;\n",
       "    }\n",
       "\n",
       "    .dataframe thead th {\n",
       "        text-align: right;\n",
       "    }\n",
       "</style>\n",
       "<table border=\"1\" class=\"dataframe\">\n",
       "  <thead>\n",
       "    <tr style=\"text-align: right;\">\n",
       "      <th></th>\n",
       "      <th>document_id</th>\n",
       "      <th>lang</th>\n",
       "      <th>text</th>\n",
       "      <th>labels</th>\n",
       "      <th>multilabel</th>\n",
       "    </tr>\n",
       "  </thead>\n",
       "  <tbody>\n",
       "    <tr>\n",
       "      <th>0</th>\n",
       "      <td>CLASSLA-web.hr.3842863</td>\n",
       "      <td>hr</td>\n",
       "      <td>Iza kamere\\n\\nFilmsku družinu ZAG posjetila je...</td>\n",
       "      <td>arts, culture, entertainment and media</td>\n",
       "      <td>[arts, culture, entertainment and media]</td>\n",
       "    </tr>\n",
       "    <tr>\n",
       "      <th>1</th>\n",
       "      <td>CLASSLA-web.hr.4597011</td>\n",
       "      <td>hr</td>\n",
       "      <td>Učenici osmih razreda nedavno su u sklopu tere...</td>\n",
       "      <td>education</td>\n",
       "      <td>[education]</td>\n",
       "    </tr>\n",
       "  </tbody>\n",
       "</table>\n",
       "</div>"
      ],
      "text/plain": [
       "              document_id lang  \\\n",
       "0  CLASSLA-web.hr.3842863   hr   \n",
       "1  CLASSLA-web.hr.4597011   hr   \n",
       "\n",
       "                                                text  \\\n",
       "0  Iza kamere\\n\\nFilmsku družinu ZAG posjetila je...   \n",
       "1  Učenici osmih razreda nedavno su u sklopu tere...   \n",
       "\n",
       "                                   labels  \\\n",
       "0  arts, culture, entertainment and media   \n",
       "1                               education   \n",
       "\n",
       "                                 multilabel  \n",
       "0  [arts, culture, entertainment and media]  \n",
       "1                               [education]  "
      ]
     },
     "execution_count": 3,
     "metadata": {},
     "output_type": "execute_result"
    }
   ],
   "source": [
    "# Load the test datasets from the GitHub repositories (access to them is obtained by request to the AGILE repository owner)\n",
    "\n",
    "iptc_test = pd.read_json(\"../../datasets/IPTC-top-test/IPTC-top-test.jsonl\", lines=True)\n",
    "print(iptc_test.shape)\n",
    "\n",
    "iptc_test.rename(columns={\"label\": \"labels\"}, inplace=True)\n",
    "\n",
    "iptc_test.head(2)"
   ]
  },
  {
   "cell_type": "code",
   "execution_count": 4,
   "metadata": {},
   "outputs": [
    {
     "data": {
      "text/html": [
       "<div>\n",
       "<style scoped>\n",
       "    .dataframe tbody tr th:only-of-type {\n",
       "        vertical-align: middle;\n",
       "    }\n",
       "\n",
       "    .dataframe tbody tr th {\n",
       "        vertical-align: top;\n",
       "    }\n",
       "\n",
       "    .dataframe thead th {\n",
       "        text-align: right;\n",
       "    }\n",
       "</style>\n",
       "<table border=\"1\" class=\"dataframe\">\n",
       "  <thead>\n",
       "    <tr style=\"text-align: right;\">\n",
       "      <th></th>\n",
       "      <th>document_id</th>\n",
       "      <th>lang</th>\n",
       "      <th>text</th>\n",
       "      <th>labels</th>\n",
       "      <th>split</th>\n",
       "    </tr>\n",
       "  </thead>\n",
       "  <tbody>\n",
       "    <tr>\n",
       "      <th>count</th>\n",
       "      <td>20000</td>\n",
       "      <td>20000</td>\n",
       "      <td>20000</td>\n",
       "      <td>20000</td>\n",
       "      <td>20000</td>\n",
       "    </tr>\n",
       "    <tr>\n",
       "      <th>unique</th>\n",
       "      <td>20000</td>\n",
       "      <td>4</td>\n",
       "      <td>20000</td>\n",
       "      <td>17</td>\n",
       "      <td>1</td>\n",
       "    </tr>\n",
       "    <tr>\n",
       "      <th>top</th>\n",
       "      <td>CLASSLA-web.hr.2821678</td>\n",
       "      <td>hr</td>\n",
       "      <td>U organizaciji Lige protiv raka Koprivničko-kr...</td>\n",
       "      <td>sport</td>\n",
       "      <td>train</td>\n",
       "    </tr>\n",
       "    <tr>\n",
       "      <th>freq</th>\n",
       "      <td>1</td>\n",
       "      <td>5000</td>\n",
       "      <td>1</td>\n",
       "      <td>3066</td>\n",
       "      <td>20000</td>\n",
       "    </tr>\n",
       "  </tbody>\n",
       "</table>\n",
       "</div>"
      ],
      "text/plain": [
       "                   document_id   lang  \\\n",
       "count                    20000  20000   \n",
       "unique                   20000      4   \n",
       "top     CLASSLA-web.hr.2821678     hr   \n",
       "freq                         1   5000   \n",
       "\n",
       "                                                     text labels  split  \n",
       "count                                               20000  20000  20000  \n",
       "unique                                              20000     17      1  \n",
       "top     U organizaciji Lige protiv raka Koprivničko-kr...  sport  train  \n",
       "freq                                                    1   3066  20000  "
      ]
     },
     "execution_count": 4,
     "metadata": {},
     "output_type": "execute_result"
    }
   ],
   "source": [
    "df_train.describe(include=\"all\")"
   ]
  },
  {
   "cell_type": "code",
   "execution_count": 5,
   "metadata": {},
   "outputs": [
    {
     "name": "stdout",
     "output_type": "stream",
     "text": [
      "20000 20000\n"
     ]
    }
   ],
   "source": [
    "# Create X_train and Y_train parts, used for sci kit learning\n",
    "# List of texts in training split\n",
    "X_train = list(df_train.text)\n",
    "# List of labels in training split\n",
    "Y_train = list(df_train.labels)\n",
    "\n",
    "\n",
    "print(len(X_train), len(Y_train))"
   ]
  },
  {
   "cell_type": "code",
   "execution_count": 6,
   "metadata": {},
   "outputs": [
    {
     "data": {
      "text/plain": [
       "['health',\n",
       " 'sport',\n",
       " 'education',\n",
       " 'labour',\n",
       " 'human interest',\n",
       " 'religion',\n",
       " 'society',\n",
       " 'crime, law and justice',\n",
       " 'disaster, accident and emergency incident',\n",
       " 'arts, culture, entertainment and media',\n",
       " 'politics',\n",
       " 'economy, business and finance',\n",
       " 'lifestyle and leisure',\n",
       " 'science and technology',\n",
       " 'environment',\n",
       " 'weather',\n",
       " 'conflict, war and peace']"
      ]
     },
     "execution_count": 6,
     "metadata": {},
     "output_type": "execute_result"
    }
   ],
   "source": [
    "# Create a list of labels\n",
    "labels = list(df_train.labels.unique())\n",
    "labels"
   ]
  },
  {
   "attachments": {},
   "cell_type": "markdown",
   "metadata": {},
   "source": [
    "## Creating Sci-Kit classifiers"
   ]
  },
  {
   "cell_type": "code",
   "execution_count": 7,
   "metadata": {},
   "outputs": [],
   "source": [
    "# Create a TF-IDF representation of the text\n",
    "def data_iterator(f):\n",
    "    for token in f:\n",
    "        yield token\n",
    "\n",
    "\n",
    "def tokenizer(txt):\n",
    "    \"\"\"Simple whitespace tokenizer\"\"\"\n",
    "    return txt.split()"
   ]
  },
  {
   "cell_type": "code",
   "execution_count": 8,
   "metadata": {},
   "outputs": [
    {
     "name": "stderr",
     "output_type": "stream",
     "text": [
      "/home/tajak/miniconda3/envs/emma_main/lib/python3.9/site-packages/sklearn/feature_extraction/text.py:523: UserWarning: The parameter 'token_pattern' will not be used since 'tokenizer' is not None'\n",
      "  warnings.warn(\n"
     ]
    }
   ],
   "source": [
    "iterator=data_iterator(X_train)\n",
    "\n",
    "vectorizer=sklearn.feature_extraction.text.TfidfVectorizer(tokenizer=tokenizer,use_idf=True,min_df=0.005)\n",
    "d=vectorizer.fit_transform(iterator)"
   ]
  },
  {
   "cell_type": "code",
   "execution_count": 12,
   "metadata": {},
   "outputs": [],
   "source": [
    "# Create a pipeline of models that you want to try:\n",
    "\n",
    "pipelines=[]\n",
    "\n",
    "#for model in [DummyClassifier(strategy=\"most_frequent\"), DummyClassifier(strategy=\"stratified\"), DecisionTreeClassifier(), MultinomialNB(), ComplementNB(), LogisticRegression(), SVC(),RandomForestClassifier()]:\n",
    "#for model in [ComplementNB(), LogisticRegression(penalty=None), SVC(kernel=\"linear\", C=2)]:\n",
    "for model in [ComplementNB(),SVC(kernel=\"linear\", C=2)]:\n",
    "    pipeline=make_pipeline(model)\n",
    "    pipelines.append(pipeline)"
   ]
  },
  {
   "cell_type": "code",
   "execution_count": 13,
   "metadata": {},
   "outputs": [],
   "source": [
    "for i, pipeline in enumerate(pipelines):\n",
    "    pipeline.fit(d, Y_train)"
   ]
  },
  {
   "cell_type": "code",
   "execution_count": 14,
   "metadata": {},
   "outputs": [],
   "source": [
    "def classify(df_test, df_test_name, pipelines = pipelines):\n",
    "\n",
    "\t# List of texts in test split\n",
    "\tX_test = list(df_test.text)\n",
    "\t# List of labels in test split\n",
    "\tY_test = list(df_test.labels)\n",
    "\n",
    "\ttest_iterator=data_iterator(X_test)\n",
    "\td_test=vectorizer.transform(test_iterator)\n",
    "\n",
    "\tprint(len(X_test), len(Y_test))\n",
    "\n",
    "\tfor i, pipeline in enumerate(pipelines):\n",
    "\t\ty_pred=list(pipeline.predict(d_test))\n",
    "\t\tmodel_name = pipelines[i].steps[0][0].upper()\n",
    "\t\tmodel_name = model_name.split(\"(\")[0]\n",
    "\n",
    "\t\t# Create a json with results\n",
    "\t\tcurrent_results = {\n",
    "\t\t\t\"system\": model_name,\n",
    "\t\t\t\"predictions\": [\n",
    "\t\t\t\t{\n",
    "\t\t\t\t\"train\": \"EMMediaTopic\",\n",
    "\t\t\t\t\"test\": \"{}\".format(df_test_name),\n",
    "\t\t\t\t\"predictions\": y_pred,\n",
    "\t\t\t\t}\n",
    "\t\t\t]\n",
    "\t\t\t}\n",
    "\n",
    "\t\t# Save the results as a new json\n",
    "\t\twith open(\"submissions/submission-{}-{}.json\".format(model_name, df_test_name), \"w\") as file:\n",
    "\t\t\tjson.dump(current_results, file)\n",
    "\n",
    "\t\tprint(\"Classification with {} on {} finished.\".format(model_name, df_test_name))\n"
   ]
  },
  {
   "cell_type": "code",
   "execution_count": 15,
   "metadata": {},
   "outputs": [
    {
     "name": "stdout",
     "output_type": "stream",
     "text": [
      "1129 1129\n",
      "Classification with COMPLEMENTNB on IPTC-test finished.\n",
      "Classification with SVC on IPTC-test finished.\n"
     ]
    }
   ],
   "source": [
    "classify(iptc_test, \"IPTC-test\", pipelines)"
   ]
  }
 ],
 "metadata": {
  "kernelspec": {
   "display_name": "emma_main",
   "language": "python",
   "name": "python3"
  },
  "language_info": {
   "codemirror_mode": {
    "name": "ipython",
    "version": 3
   },
   "file_extension": ".py",
   "mimetype": "text/x-python",
   "name": "python",
   "nbconvert_exporter": "python",
   "pygments_lexer": "ipython3",
   "version": "3.9.19"
  }
 },
 "nbformat": 4,
 "nbformat_minor": 4
}
