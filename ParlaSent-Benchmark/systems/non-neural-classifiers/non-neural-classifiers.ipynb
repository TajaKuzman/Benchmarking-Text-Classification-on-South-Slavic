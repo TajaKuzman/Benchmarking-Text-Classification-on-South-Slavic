{
 "cells": [
  {
   "attachments": {},
   "cell_type": "markdown",
   "metadata": {},
   "source": [
    "# Experiments with Baseline Classifiers"
   ]
  },
  {
   "cell_type": "markdown",
   "metadata": {},
   "source": [
    "I apply traditional non-neural classifiers to the test data: dummy classifier, Naive Bayes classifier, Logistic Regression, SVM and others."
   ]
  },
  {
   "cell_type": "code",
   "execution_count": 1,
   "metadata": {
    "execution": {
     "iopub.execute_input": "2022-02-11T10:14:19.885851Z",
     "iopub.status.busy": "2022-02-11T10:14:19.885492Z",
     "iopub.status.idle": "2022-02-11T10:14:19.915615Z",
     "shell.execute_reply": "2022-02-11T10:14:19.914828Z",
     "shell.execute_reply.started": "2022-02-11T10:14:19.885763Z"
    },
    "trusted": true
   },
   "outputs": [
    {
     "name": "stderr",
     "output_type": "stream",
     "text": [
      "/home/tajak/miniconda3/envs/conda_emma/lib/python3.9/site-packages/tqdm/auto.py:21: TqdmWarning: IProgress not found. Please update jupyter and ipywidgets. See https://ipywidgets.readthedocs.io/en/stable/user_install.html\n",
      "  from .autonotebook import tqdm as notebook_tqdm\n"
     ]
    }
   ],
   "source": [
    "import pandas as pd\n",
    "import numpy as np\n",
    "import json\n",
    "import sklearn.model_selection\n",
    "from sklearn import metrics\n",
    "from sklearn.metrics import f1_score\n",
    "from sklearn.pipeline import make_pipeline\n",
    "from sklearn.naive_bayes import MultinomialNB,ComplementNB\n",
    "from sklearn.linear_model import LogisticRegression\n",
    "from sklearn.svm import SVC\n",
    "from sklearn.ensemble import RandomForestClassifier\n",
    "from sklearn.tree import DecisionTreeClassifier\n",
    "from sklearn.metrics import ConfusionMatrixDisplay\n",
    "import sklearn.feature_extraction\n",
    "from sklearn.svm import SVC\n",
    "from datasets import load_dataset"
   ]
  },
  {
   "cell_type": "code",
   "execution_count": 2,
   "metadata": {},
   "outputs": [
    {
     "name": "stdout",
     "output_type": "stream",
     "text": [
      "(2600, 14) (2600, 14)\n"
     ]
    }
   ],
   "source": [
    "# Load the test datasets\n",
    "\n",
    "test_en = pd.read_json(\"../../datasets/ParlaSent-EN-test/ParlaSent_EN_test.jsonl\", lines=True)\n",
    "test_bcs = pd.read_json(\"../../datasets/ParlaSent-BSC-test/ParlaSent_BCS_test.jsonl\", lines=True)\n",
    "\n",
    "print(test_en.shape, test_bcs.shape)"
   ]
  },
  {
   "cell_type": "code",
   "execution_count": 4,
   "metadata": {},
   "outputs": [
    {
     "name": "stdout",
     "output_type": "stream",
     "text": [
      "(13000, 16)\n"
     ]
    },
    {
     "data": {
      "text/html": [
       "<div>\n",
       "<style scoped>\n",
       "    .dataframe tbody tr th:only-of-type {\n",
       "        vertical-align: middle;\n",
       "    }\n",
       "\n",
       "    .dataframe tbody tr th {\n",
       "        vertical-align: top;\n",
       "    }\n",
       "\n",
       "    .dataframe thead th {\n",
       "        text-align: right;\n",
       "    }\n",
       "</style>\n",
       "<table border=\"1\" class=\"dataframe\">\n",
       "  <thead>\n",
       "    <tr style=\"text-align: right;\">\n",
       "      <th></th>\n",
       "      <th>text</th>\n",
       "      <th>country</th>\n",
       "      <th>annotator1</th>\n",
       "      <th>annotator2</th>\n",
       "      <th>reconciliation</th>\n",
       "      <th>labels</th>\n",
       "      <th>document_id</th>\n",
       "      <th>sentence_id</th>\n",
       "      <th>term</th>\n",
       "      <th>date</th>\n",
       "      <th>name</th>\n",
       "      <th>party</th>\n",
       "      <th>gender</th>\n",
       "      <th>birth_year</th>\n",
       "      <th>split</th>\n",
       "      <th>ruling</th>\n",
       "    </tr>\n",
       "  </thead>\n",
       "  <tbody>\n",
       "    <tr>\n",
       "      <th>0</th>\n",
       "      <td>Da li je pošteno da se ukida prethodna stopa i...</td>\n",
       "      <td>HR</td>\n",
       "      <td>N_Neutral</td>\n",
       "      <td>Negative</td>\n",
       "      <td>M_Negative</td>\n",
       "      <td>Negative</td>\n",
       "      <td>17023</td>\n",
       "      <td>2536</td>\n",
       "      <td>9.0</td>\n",
       "      <td>2016-11-15</td>\n",
       "      <td>Pupovac, Milorad</td>\n",
       "      <td>SDSS</td>\n",
       "      <td>M</td>\n",
       "      <td>1955.0</td>\n",
       "      <td>train</td>\n",
       "      <td>Opposition</td>\n",
       "    </tr>\n",
       "    <tr>\n",
       "      <th>1</th>\n",
       "      <td>Znam pouzdano da su među specijalnim snagama b...</td>\n",
       "      <td>SRB</td>\n",
       "      <td>Negative</td>\n",
       "      <td>Negative</td>\n",
       "      <td>Negative</td>\n",
       "      <td>Negative</td>\n",
       "      <td>14362</td>\n",
       "      <td>1648</td>\n",
       "      <td>9.0</td>\n",
       "      <td>2013-03-28</td>\n",
       "      <td>Halimi, Riza</td>\n",
       "      <td>None</td>\n",
       "      <td>M</td>\n",
       "      <td>1947.0</td>\n",
       "      <td>train</td>\n",
       "      <td>None</td>\n",
       "    </tr>\n",
       "  </tbody>\n",
       "</table>\n",
       "</div>"
      ],
      "text/plain": [
       "                                                text country annotator1  \\\n",
       "0  Da li je pošteno da se ukida prethodna stopa i...      HR  N_Neutral   \n",
       "1  Znam pouzdano da su među specijalnim snagama b...     SRB   Negative   \n",
       "\n",
       "  annotator2 reconciliation    labels  document_id  sentence_id  term  \\\n",
       "0   Negative     M_Negative  Negative        17023         2536   9.0   \n",
       "1   Negative       Negative  Negative        14362         1648   9.0   \n",
       "\n",
       "        date              name party gender  birth_year  split      ruling  \n",
       "0 2016-11-15  Pupovac, Milorad  SDSS      M      1955.0  train  Opposition  \n",
       "1 2013-03-28      Halimi, Riza  None      M      1947.0  train        None  "
      ]
     },
     "execution_count": 4,
     "metadata": {},
     "output_type": "execute_result"
    }
   ],
   "source": [
    "# Load the training dataset\n",
    "\n",
    "df_train = pd.read_json(\"../../datasets/ParlaSent-train/ParlaSent_training.jsonl\", lines=True)\n",
    "\n",
    "print(df_train.shape)\n",
    "\n",
    "df_train.head(2)"
   ]
  },
  {
   "cell_type": "code",
   "execution_count": 5,
   "metadata": {},
   "outputs": [
    {
     "name": "stdout",
     "output_type": "stream",
     "text": [
      "13000 13000\n"
     ]
    }
   ],
   "source": [
    "# Create X_train and Y_train parts, used for sci kit learning\n",
    "# List of texts in training split\n",
    "X_train = list(df_train.text)\n",
    "# List of labels in training split\n",
    "Y_train = list(df_train.labels)\n",
    "\n",
    "\n",
    "print(len(X_train), len(Y_train))"
   ]
  },
  {
   "cell_type": "code",
   "execution_count": 6,
   "metadata": {},
   "outputs": [
    {
     "data": {
      "text/plain": [
       "['Negative', 'Neutral', 'Positive']"
      ]
     },
     "execution_count": 6,
     "metadata": {},
     "output_type": "execute_result"
    }
   ],
   "source": [
    "# Create a list of labels\n",
    "labels = list(df_train.labels.unique())\n",
    "labels"
   ]
  },
  {
   "attachments": {},
   "cell_type": "markdown",
   "metadata": {},
   "source": [
    "## Creating Sci-Kit classifiers"
   ]
  },
  {
   "cell_type": "code",
   "execution_count": 7,
   "metadata": {},
   "outputs": [],
   "source": [
    "# Create a TF-IDF representation of the text\n",
    "def data_iterator(f):\n",
    "    for token in f:\n",
    "        yield token\n",
    "\n",
    "\n",
    "def tokenizer(txt):\n",
    "    \"\"\"Simple whitespace tokenizer\"\"\"\n",
    "    return txt.split()"
   ]
  },
  {
   "cell_type": "code",
   "execution_count": 8,
   "metadata": {},
   "outputs": [
    {
     "name": "stderr",
     "output_type": "stream",
     "text": [
      "/home/tajak/miniconda3/envs/conda_emma/lib/python3.9/site-packages/sklearn/feature_extraction/text.py:525: UserWarning: The parameter 'token_pattern' will not be used since 'tokenizer' is not None'\n",
      "  warnings.warn(\n"
     ]
    }
   ],
   "source": [
    "iterator=data_iterator(X_train)\n",
    "\n",
    "vectorizer=sklearn.feature_extraction.text.TfidfVectorizer(tokenizer=tokenizer,use_idf=True,min_df=0.005)\n",
    "d=vectorizer.fit_transform(iterator)"
   ]
  },
  {
   "cell_type": "code",
   "execution_count": 9,
   "metadata": {},
   "outputs": [],
   "source": [
    "# Create a pipeline of models that you want to try:\n",
    "\n",
    "pipelines=[]\n",
    "\n",
    "#for model in [DummyClassifier(strategy=\"most_frequent\"), DummyClassifier(strategy=\"stratified\"), DecisionTreeClassifier(), MultinomialNB(), ComplementNB(), LogisticRegression(), SVC(),RandomForestClassifier()]:\n",
    "#for model in [ComplementNB(), LogisticRegression(penalty=None), SVC(kernel=\"linear\", C=2)]:\n",
    "for model in [ComplementNB(), SVC(kernel=\"linear\", C=2)]:\n",
    "    pipeline=make_pipeline(model)\n",
    "    pipelines.append(pipeline)"
   ]
  },
  {
   "cell_type": "code",
   "execution_count": 10,
   "metadata": {},
   "outputs": [],
   "source": [
    "for i, pipeline in enumerate(pipelines):\n",
    "    pipeline.fit(d, Y_train)"
   ]
  },
  {
   "cell_type": "code",
   "execution_count": 11,
   "metadata": {},
   "outputs": [],
   "source": [
    "def classify(df_test, df_test_name, pipelines = pipelines):\n",
    "\n",
    "\t# List of texts in test split\n",
    "\tX_test = list(df_test.text)\n",
    "\t# List of labels in test split\n",
    "\tY_test = list(df_test.labels)\n",
    "\n",
    "\ttest_iterator=data_iterator(X_test)\n",
    "\td_test=vectorizer.transform(test_iterator)\n",
    "\n",
    "\tprint(len(X_test), len(Y_test))\n",
    "\n",
    "\tfor i, pipeline in enumerate(pipelines):\n",
    "\t\ty_pred=list(pipeline.predict(d_test))\n",
    "\t\tmodel_name = pipelines[i].steps[0][0].upper()\n",
    "\t\tmodel_name = model_name.split(\"(\")[0]\n",
    "\n",
    "\t\t# Create a json with results\n",
    "\t\tcurrent_results = {\n",
    "\t\t\t\"system\": model_name,\n",
    "\t\t\t\"predictions\": [\n",
    "\t\t\t\t{\n",
    "\t\t\t\t\"train\": \"ParlaSent\",\n",
    "\t\t\t\t\"test\": \"{}\".format(df_test_name),\n",
    "\t\t\t\t\"predictions\": y_pred,\n",
    "\t\t\t\t}\n",
    "\t\t\t]\n",
    "\t\t\t}\n",
    "\n",
    "\t\t# Save the results as a new json\n",
    "\t\twith open(\"submissions/submission-{}-{}.json\".format(model_name, df_test_name), \"w\") as file:\n",
    "\t\t\tjson.dump(current_results, file)\n",
    "\n",
    "\t\tprint(\"Classification with {} on {} finished.\".format(model_name, df_test_name))\n"
   ]
  },
  {
   "cell_type": "code",
   "execution_count": 12,
   "metadata": {},
   "outputs": [
    {
     "name": "stdout",
     "output_type": "stream",
     "text": [
      "2600 2600\n",
      "Classification with COMPLEMENTNB on ParlaSent-EN-test finished.\n",
      "Classification with SVC on ParlaSent-EN-test finished.\n"
     ]
    }
   ],
   "source": [
    "classify(test_en, \"ParlaSent-EN-test\", pipelines)"
   ]
  },
  {
   "cell_type": "code",
   "execution_count": 13,
   "metadata": {},
   "outputs": [
    {
     "name": "stdout",
     "output_type": "stream",
     "text": [
      "2600 2600\n",
      "Classification with COMPLEMENTNB on ParlaSent-BCS-test finished.\n",
      "Classification with SVC on ParlaSent-BCS-test finished.\n"
     ]
    }
   ],
   "source": [
    "classify(test_bcs, \"ParlaSent-BCS-test\", pipelines)"
   ]
  }
 ],
 "metadata": {
  "kernelspec": {
   "display_name": "conda_emma",
   "language": "python",
   "name": "python3"
  },
  "language_info": {
   "codemirror_mode": {
    "name": "ipython",
    "version": 3
   },
   "file_extension": ".py",
   "mimetype": "text/x-python",
   "name": "python",
   "nbconvert_exporter": "python",
   "pygments_lexer": "ipython3",
   "version": "3.9.19"
  }
 },
 "nbformat": 4,
 "nbformat_minor": 4
}
