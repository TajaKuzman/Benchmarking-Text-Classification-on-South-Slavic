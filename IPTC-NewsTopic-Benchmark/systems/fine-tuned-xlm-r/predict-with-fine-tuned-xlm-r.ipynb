{
 "cells": [
  {
   "cell_type": "code",
   "execution_count": 3,
   "metadata": {},
   "outputs": [
    {
     "name": "stdout",
     "output_type": "stream",
     "text": [
      "env: CUDA_DEVICE_ORDER=PCI_BUS_ID\n",
      "env: CUDA_VISIBLE_DEVICES=0\n"
     ]
    }
   ],
   "source": [
    "%env CUDA_DEVICE_ORDER=PCI_BUS_ID\n",
    "%env CUDA_VISIBLE_DEVICES=0"
   ]
  },
  {
   "cell_type": "code",
   "execution_count": 4,
   "metadata": {},
   "outputs": [],
   "source": [
    "from transformers import AutoTokenizer\n",
    "import sys\n",
    "import torch\n",
    "import json\n",
    "from scipy.special import softmax\n",
    "from transformers import AutoModelForSequenceClassification\n",
    "import argparse\n",
    "import pandas as pd"
   ]
  },
  {
   "cell_type": "code",
   "execution_count": 5,
   "metadata": {},
   "outputs": [
    {
     "name": "stdout",
     "output_type": "stream",
     "text": [
      "(1129, 5)\n"
     ]
    },
    {
     "data": {
      "text/html": [
       "<div>\n",
       "<style scoped>\n",
       "    .dataframe tbody tr th:only-of-type {\n",
       "        vertical-align: middle;\n",
       "    }\n",
       "\n",
       "    .dataframe tbody tr th {\n",
       "        vertical-align: top;\n",
       "    }\n",
       "\n",
       "    .dataframe thead th {\n",
       "        text-align: right;\n",
       "    }\n",
       "</style>\n",
       "<table border=\"1\" class=\"dataframe\">\n",
       "  <thead>\n",
       "    <tr style=\"text-align: right;\">\n",
       "      <th></th>\n",
       "      <th>document_id</th>\n",
       "      <th>lang</th>\n",
       "      <th>text</th>\n",
       "      <th>labels</th>\n",
       "      <th>multilabel</th>\n",
       "    </tr>\n",
       "  </thead>\n",
       "  <tbody>\n",
       "    <tr>\n",
       "      <th>0</th>\n",
       "      <td>CLASSLA-web.hr.3842863</td>\n",
       "      <td>hr</td>\n",
       "      <td>Iza kamere\\n\\nFilmsku družinu ZAG posjetila je...</td>\n",
       "      <td>arts, culture, entertainment and media</td>\n",
       "      <td>[arts, culture, entertainment and media]</td>\n",
       "    </tr>\n",
       "    <tr>\n",
       "      <th>1</th>\n",
       "      <td>CLASSLA-web.hr.4597011</td>\n",
       "      <td>hr</td>\n",
       "      <td>Učenici osmih razreda nedavno su u sklopu tere...</td>\n",
       "      <td>education</td>\n",
       "      <td>[education]</td>\n",
       "    </tr>\n",
       "  </tbody>\n",
       "</table>\n",
       "</div>"
      ],
      "text/plain": [
       "              document_id lang  \\\n",
       "0  CLASSLA-web.hr.3842863   hr   \n",
       "1  CLASSLA-web.hr.4597011   hr   \n",
       "\n",
       "                                                text  \\\n",
       "0  Iza kamere\\n\\nFilmsku družinu ZAG posjetila je...   \n",
       "1  Učenici osmih razreda nedavno su u sklopu tere...   \n",
       "\n",
       "                                   labels  \\\n",
       "0  arts, culture, entertainment and media   \n",
       "1                               education   \n",
       "\n",
       "                                 multilabel  \n",
       "0  [arts, culture, entertainment and media]  \n",
       "1                               [education]  "
      ]
     },
     "execution_count": 5,
     "metadata": {},
     "output_type": "execute_result"
    }
   ],
   "source": [
    "# Load the test datasets from the GitHub repositories (access to them is obtained by request to the AGILE repository owner)\n",
    "\n",
    "iptc_test = pd.read_json(\"../../datasets/IPTC-top-test/IPTC-top-test.jsonl\", lines=True)\n",
    "print(iptc_test.shape)\n",
    "\n",
    "iptc_test.rename(columns={\"label\": \"labels\"}, inplace=True)\n",
    "\n",
    "iptc_test.head(2)"
   ]
  },
  {
   "cell_type": "code",
   "execution_count": 6,
   "metadata": {},
   "outputs": [],
   "source": [
    "from transformers import pipeline\n",
    "\n",
    "# Load a multi-class classification pipeline - if the model runs on CPU, comment out \"device\"\n",
    "classifier = pipeline(\"text-classification\", model=\"classla/multilingual-IPTC-news-topic-classifier\", device=0, max_length=512, truncation=True)"
   ]
  },
  {
   "cell_type": "code",
   "execution_count": 7,
   "metadata": {},
   "outputs": [],
   "source": [
    "def predict_topic(df_test_name):\n",
    "\n",
    "    df = iptc_test\n",
    "\n",
    "    texts = df[\"text\"].to_list()\n",
    "\n",
    "    prediction_list = []\n",
    "    \n",
    "    # Classify the texts\n",
    "    results = classifier(texts)\n",
    "\n",
    "    # Output the results\n",
    "    for result in results:\n",
    "        prediction_list.append(result[\"label\"])\n",
    "        \n",
    "    # Create a json with results\n",
    "\n",
    "    current_results = {\n",
    "        \"system\": \"IPTC XLM-R classifier\",\n",
    "        \"predictions\": [\n",
    "            {\n",
    "            \"train\": \"EMMediaTopic (15k)\",\n",
    "            \"test\": \"{}\".format(df_test_name),\n",
    "            \"predictions\": prediction_list,\n",
    "            }\n",
    "        ]\n",
    "        }\n",
    "\n",
    "    # Save the results as a new json\n",
    "    with open(\"submissions/submission-{}-{}.json\".format(\"IPTC-XLM-R-classifier\", df_test_name), \"w\") as file:\n",
    "        json.dump(current_results, file)\n",
    "\n",
    "    print(\"Classification with {} on {} finished.\".format(\"IPTC-XLM-R-classifier\", df_test_name))"
   ]
  },
  {
   "cell_type": "code",
   "execution_count": 8,
   "metadata": {},
   "outputs": [
    {
     "name": "stdout",
     "output_type": "stream",
     "text": [
      "Classification with IPTC-XLM-R-classifier on IPTC-test finished.\n"
     ]
    }
   ],
   "source": [
    "predict_topic(\"IPTC-test\")"
   ]
  }
 ],
 "metadata": {
  "kernelspec": {
   "display_name": "emma_main",
   "language": "python",
   "name": "python3"
  },
  "language_info": {
   "codemirror_mode": {
    "name": "ipython",
    "version": 3
   },
   "file_extension": ".py",
   "mimetype": "text/x-python",
   "name": "python",
   "nbconvert_exporter": "python",
   "pygments_lexer": "ipython3",
   "version": "3.9.19"
  }
 },
 "nbformat": 4,
 "nbformat_minor": 2
}
