{
 "cells": [
  {
   "cell_type": "code",
   "execution_count": null,
   "metadata": {},
   "outputs": [],
   "source": [
    "%pip install openai"
   ]
  },
  {
   "cell_type": "code",
   "execution_count": 1,
   "metadata": {},
   "outputs": [],
   "source": [
    "import pandas as pd\n",
    "import json\n",
    "import numpy as np\n",
    "from time import sleep\n",
    "import time\n",
    "from openai import OpenAI\n",
    "from tqdm import tqdm\n",
    "client = OpenAI(api_key=open('API_key').read())"
   ]
  },
  {
   "cell_type": "code",
   "execution_count": 2,
   "metadata": {},
   "outputs": [
    {
     "name": "stdout",
     "output_type": "stream",
     "text": [
      "(500, 5) (500, 5) (500, 7) (500, 5) (500, 7) (500, 5) (500, 7) (500, 5)\n"
     ]
    }
   ],
   "source": [
    "# Load the test datasets\n",
    "test_en = pd.read_json(\"../../datasets/copa-en-test.jsonl\", lines=True)\n",
    "test_sl = pd.read_json(\"../../datasets/copa-sl-test.jsonl\", lines=True)\n",
    "test_hr_ckm = pd.read_json(\"../../datasets/copa-hr-ckm-test.jsonl\", lines=True)\n",
    "test_hr = pd.read_json(\"../../datasets/copa-hr-test.jsonl\", lines=True)\n",
    "test_mk = pd.read_json(\"../../datasets/copa-mk-test.jsonl\", lines=True)\n",
    "test_sl_cer = pd.read_json(\"../../datasets/copa-sl-cer-test.jsonl\", lines=True)\n",
    "test_sr = pd.read_json(\"../../datasets/copa-sr-test.jsonl\", lines=True)\n",
    "test_sr_tor = pd.read_json(\"../../datasets/copa-sr-tor-test.jsonl\", lines=True)\n",
    "\n",
    "print(test_en.shape, test_sl.shape, test_hr.shape, test_hr_ckm.shape, test_mk.shape, test_sl_cer.shape, test_sr.shape, test_sr_tor.shape)"
   ]
  },
  {
   "cell_type": "code",
   "execution_count": 3,
   "metadata": {},
   "outputs": [],
   "source": [
    "def predict_gpt(df_test_name, gpt_model):\n",
    "\n",
    "\tdf_path = f\"../../datasets/{df_test_name}-test.jsonl\"\n",
    "\n",
    "\tresponses = []\n",
    "\n",
    "\tstart_time = time.time()\n",
    "\tfor line in open(df_path):\n",
    "\t\tentry=json.loads(line)\n",
    "\n",
    "\t\tif df_test_name != \"copa-en\":\n",
    "\t\t\tprompt= 'You will be given a task. The task definition is in English, but the task itself is in another language. Here is the task!\\nGiven the premise \"'+entry['premise']+'\",'\n",
    "\t\t\tif entry['question']=='cause':\n",
    "\t\t\t\tprompt+=' and that we are looking for the cause of this premise,'\n",
    "\t\t\telse:\n",
    "\t\t\t\tprompt+=' and that we are looking for the result of this premise, '\n",
    "\t\t\tprompt+=f\"\"\"which hypothesis is more plausible?\\nHypothesis 1: \"{entry['choice1']}\".\\nHypothesis 2: \"{entry['choice2']}\".\n",
    "\t\t\t\t\t\n",
    "\t\t\t### Output format\n",
    "\t\t\t\tReturn a valid JSON dictionary with the following key: 'answer' and a value should be an integer -- either 1 (if hypothesis 1 is more plausible) or 2 (if hypothesis 2 is more plausible).\n",
    "\t\t\t\"\"\"\n",
    "\t\telif df_test_name == \"copa-en\":\n",
    "\t\t\tprompt= 'You will be given a task. The task definition is in English, as is the task itself. Here is the task!\\nGiven the premise \"'+entry['premise']+'\",'\n",
    "\t\t\tif entry['question']=='cause':\n",
    "\t\t\t\tprompt+=' and that we are looking for the cause of this premise,'\n",
    "\t\t\telse:\n",
    "\t\t\t\tprompt+=' and that we are looking for the result of this premise,'\n",
    "\t\t\tprompt+=f\"\"\"which hypothesis is more plausible?\\nHypothesis 1: \"{entry['choice1']}\".\\nHypothesis 2: \"{entry['choice2']}\".\n",
    "\t\t\t\t\t\n",
    "\t\t\t### Output format\n",
    "\t\t\t\tReturn a valid JSON dictionary with the following key: 'answer' and a value should be an integer -- either 1 (if hypothesis 1 is more plausible) or 2 (if hypothesis 2 is more plausible).\n",
    "\t\t\t\"\"\"\n",
    "\t\t\n",
    "\t\tif \"gpt-5\" not in gpt_model:\n",
    "\t\t\tcompletion = client.chat.completions.create(model=gpt_model,\n",
    "\t\t\t\tresponse_format= {\"type\": \"json_object\"},\n",
    "\t\t\t\tmessages=[\n",
    "\t\t\t\t{\n",
    "\t\t\t\t\t\"role\": \"user\",\n",
    "\t\t\t\t\t\"content\": prompt}\n",
    "\t\t\t\t],\n",
    "\t\t\t\ttemperature = 0\n",
    "\t\t\t\t)\n",
    "\t\t# the \"v5\" models do not have the \"temperature\" parameter\n",
    "\t\telif \"gpt-5\" in gpt_model:\n",
    "\t\t\tcompletion = client.chat.completions.create(model=gpt_model,\n",
    "\t\t\t\tresponse_format= {\"type\": \"json_object\"},\n",
    "\t\t\t\tmessages=[\n",
    "\t\t\t\t{\n",
    "\t\t\t\t\t\"role\": \"user\",\n",
    "\t\t\t\t\t\"content\": prompt}\n",
    "\t\t\t\t],\n",
    "\t\t\t\t#temperature = 0\n",
    "\t\t\t\t)\n",
    "\n",
    "\t\tinitial_response=completion.choices[0].message.content\n",
    "\t\t\n",
    "\t\tresponse = initial_response.replace(\"\\n\", \"\")\n",
    "\t\tresponse = response.replace(\"\\t\", \"\")\n",
    "\n",
    "\t\t# Get out a label\n",
    "\t\ttry:\n",
    "\t\t\t# Convert the string into a dictionary\n",
    "\t\t\tresponse = json.loads(response)\n",
    "\t\t\t\n",
    "\t\t\t# The true labels are 0 or 1, so you have to change the answer by substracting 1 from it.\n",
    "\t\t\tpredicted = response[\"answer\"]-1\n",
    "\t\t\tresponses.append(predicted)\n",
    "\t\t# add a possibility of something going wrong\n",
    "\t\texcept:\n",
    "\t\t\tpredicted = initial_response\n",
    "\t\t\tprint(\"error with extracting a label:\")\n",
    "\t\t\tprint(initial_response)\n",
    "\t\t\tresponses.append(initial_response)\n",
    "\n",
    "\tend_time = time.time()\n",
    "\telapsed_time_min = end_time-start_time\n",
    "\n",
    "\tprint(f\"Prediction finished. It took {elapsed_time_min/60} min for 500 instances - {elapsed_time_min/500} s per instance.\")\n",
    "\n",
    "\t# Create a json with results\n",
    "\n",
    "\tcurrent_results = {\n",
    "\t\t\"system\": gpt_model,\n",
    "\t\t\"predictions\": [\n",
    "\t\t\t{\n",
    "\t\t\t\"train\": \"NA (zero-shot)\",\n",
    "\t\t\t\"test\": \"{}\".format(df_test_name),\n",
    "\t\t\t\"predictions\": responses,\n",
    "\t\t\t},\n",
    "\t\t]\n",
    "\t\t}\n",
    "\n",
    "\t# Save the results as a new json\n",
    "\twith open(\"submissions/submission-{}-{}.json\".format(gpt_model, df_test_name), \"w\") as file:\n",
    "\t\tjson.dump(current_results, file)\n",
    "\n",
    "\tprint(\"Classification with {} on {} finished.\".format(gpt_model, df_test_name))"
   ]
  },
  {
   "cell_type": "code",
   "execution_count": 4,
   "metadata": {},
   "outputs": [],
   "source": [
    "tests = [\"copa-en\",\"copa-sl\", \"copa-hr\", \"copa-hr-ckm\", \"copa-mk\", \"copa-sl-cer\", \"copa-sr\", \"copa-sr-tor\"]"
   ]
  },
  {
   "cell_type": "code",
   "execution_count": 6,
   "metadata": {},
   "outputs": [
    {
     "name": "stdout",
     "output_type": "stream",
     "text": [
      "gpt-4o-2024-08-06\n",
      "Prediction finished. It took 6.09971798658371 min for 500 instances - 0.7319661583900452 s per instance.\n",
      "Classification with gpt-4o-2024-08-06 on copa-en finished.\n",
      "gpt-3.5-turbo-0125\n",
      "Prediction finished. It took 5.382102092107137 min for 500 instances - 0.6458522510528565 s per instance.\n",
      "Classification with gpt-3.5-turbo-0125 on copa-en finished.\n",
      "gpt-5-2025-08-07\n",
      "Prediction finished. It took 26.666247244675954 min for 500 instances - 3.1999496693611147 s per instance.\n",
      "Classification with gpt-5-2025-08-07 on copa-en finished.\n"
     ]
    }
   ],
   "source": [
    "# First, check that everything works well by evaluating the models on English\n",
    "for model in [\"gpt-4o-2024-08-06\", \"gpt-3.5-turbo-0125\", \"gpt-5-2025-08-07\"]:\n",
    "\tprint(model)\n",
    "\tpredict_gpt(\"copa-en\", model)"
   ]
  },
  {
   "cell_type": "code",
   "execution_count": 7,
   "metadata": {},
   "outputs": [
    {
     "name": "stdout",
     "output_type": "stream",
     "text": [
      "copa-sl\n",
      "gpt-4o-2024-08-06\n",
      "Prediction finished. It took 5.678991957505544 min for 500 instances - 0.6814790349006653 s per instance.\n",
      "Classification with gpt-4o-2024-08-06 on copa-sl finished.\n",
      "gpt-3.5-turbo-0125\n",
      "Prediction finished. It took 5.451760907967885 min for 500 instances - 0.6542113089561462 s per instance.\n",
      "Classification with gpt-3.5-turbo-0125 on copa-sl finished.\n",
      "copa-hr\n",
      "gpt-4o-2024-08-06\n",
      "Prediction finished. It took 5.586604948838552 min for 500 instances - 0.6703925938606262 s per instance.\n",
      "Classification with gpt-4o-2024-08-06 on copa-hr finished.\n",
      "gpt-3.5-turbo-0125\n",
      "Prediction finished. It took 5.42175254424413 min for 500 instances - 0.6506103053092956 s per instance.\n",
      "Classification with gpt-3.5-turbo-0125 on copa-hr finished.\n",
      "copa-hr-ckm\n",
      "gpt-4o-2024-08-06\n",
      "Prediction finished. It took 6.307056427001953 min for 500 instances - 0.7568467712402344 s per instance.\n",
      "Classification with gpt-4o-2024-08-06 on copa-hr-ckm finished.\n",
      "gpt-3.5-turbo-0125\n",
      "Prediction finished. It took 5.430331218242645 min for 500 instances - 0.6516397461891175 s per instance.\n",
      "Classification with gpt-3.5-turbo-0125 on copa-hr-ckm finished.\n",
      "copa-mk\n",
      "gpt-4o-2024-08-06\n",
      "Prediction finished. It took 11.731123344103496 min for 500 instances - 1.4077348012924193 s per instance.\n",
      "Classification with gpt-4o-2024-08-06 on copa-mk finished.\n",
      "gpt-3.5-turbo-0125\n",
      "Prediction finished. It took 5.07633497317632 min for 500 instances - 0.6091601967811584 s per instance.\n",
      "Classification with gpt-3.5-turbo-0125 on copa-mk finished.\n",
      "copa-sl-cer\n",
      "gpt-4o-2024-08-06\n",
      "Prediction finished. It took 5.9171896497408545 min for 500 instances - 0.7100627579689026 s per instance.\n",
      "Classification with gpt-4o-2024-08-06 on copa-sl-cer finished.\n",
      "gpt-3.5-turbo-0125\n",
      "Prediction finished. It took 5.417968273162842 min for 500 instances - 0.6501561927795411 s per instance.\n",
      "Classification with gpt-3.5-turbo-0125 on copa-sl-cer finished.\n",
      "copa-sr\n",
      "gpt-4o-2024-08-06\n",
      "Prediction finished. It took 5.635179165999094 min for 500 instances - 0.6762214999198913 s per instance.\n",
      "Classification with gpt-4o-2024-08-06 on copa-sr finished.\n",
      "gpt-3.5-turbo-0125\n",
      "Prediction finished. It took 5.15937382777532 min for 500 instances - 0.6191248593330383 s per instance.\n",
      "Classification with gpt-3.5-turbo-0125 on copa-sr finished.\n",
      "copa-sr-tor\n",
      "gpt-4o-2024-08-06\n",
      "Prediction finished. It took 6.576596740881602 min for 500 instances - 0.7891916089057922 s per instance.\n",
      "Classification with gpt-4o-2024-08-06 on copa-sr-tor finished.\n",
      "gpt-3.5-turbo-0125\n",
      "Prediction finished. It took 12.000416990121206 min for 500 instances - 1.4400500388145447 s per instance.\n",
      "Classification with gpt-3.5-turbo-0125 on copa-sr-tor finished.\n"
     ]
    }
   ],
   "source": [
    "# First, evaluate the first two models, as GPT-5 takes much longer\n",
    "for test in tests[1:]:\n",
    "\tprint(test)\n",
    "\tfor model in [\"gpt-4o-2024-08-06\", \"gpt-3.5-turbo-0125\"]:\n",
    "\t\tprint(model)\n",
    "\t\tpredict_gpt(test, model)"
   ]
  },
  {
   "cell_type": "code",
   "execution_count": 6,
   "metadata": {},
   "outputs": [
    {
     "data": {
      "text/plain": [
       "['copa-hr-ckm', 'copa-mk', 'copa-sl-cer', 'copa-sr', 'copa-sr-tor']"
      ]
     },
     "execution_count": 6,
     "metadata": {},
     "output_type": "execute_result"
    }
   ],
   "source": [
    "tests[3:]"
   ]
  },
  {
   "cell_type": "code",
   "execution_count": null,
   "metadata": {},
   "outputs": [
    {
     "name": "stdout",
     "output_type": "stream",
     "text": [
      "copa-hr-ckm\n",
      "Prediction finished. It took 87.900279601415 min for 500 instances - 10.5480335521698 s per instance.\n",
      "Classification with gpt-5-2025-08-07 on copa-hr-ckm finished.\n",
      "copa-mk\n",
      "Prediction finished. It took 34.84431236584981 min for 500 instances - 4.181317483901977 s per instance.\n",
      "Classification with gpt-5-2025-08-07 on copa-mk finished.\n",
      "copa-sl-cer\n"
     ]
    }
   ],
   "source": [
    "# Add GPT-5\n",
    "for test in tests[3:]:\n",
    "\tprint(test)\n",
    "\tpredict_gpt(test, \"gpt-5-2025-08-07\")\n",
    "\n"
   ]
  }
 ],
 "metadata": {
  "kernelspec": {
   "display_name": "emma_main",
   "language": "python",
   "name": "python3"
  },
  "language_info": {
   "codemirror_mode": {
    "name": "ipython",
    "version": 3
   },
   "file_extension": ".py",
   "mimetype": "text/x-python",
   "name": "python",
   "nbconvert_exporter": "python",
   "pygments_lexer": "ipython3",
   "version": "3.9.19"
  }
 },
 "nbformat": 4,
 "nbformat_minor": 2
}
